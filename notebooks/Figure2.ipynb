{
 "cells": [
  {
   "cell_type": "code",
   "execution_count": null,
   "id": "f8d470c6-c66f-49de-99c8-10852f11eac4",
   "metadata": {},
   "outputs": [],
   "source": [
    "%config InlineBackend.figure_format = 'retina'\n",
    "import numpy as np\n",
    "import matplotlib.pyplot as plt\n",
    "import pandas as pd\n",
    "plt.rcParams['pdf.fonttype'] = 42"
   ]
  },
  {
   "cell_type": "markdown",
   "id": "dbb31d2d-0df9-4f2c-b48a-a96978f6657d",
   "metadata": {},
   "source": [
    "## Figure 2a"
   ]
  },
  {
   "cell_type": "code",
   "execution_count": null,
   "id": "bab8b66b-f2b9-443a-98d5-2433ba4a1622",
   "metadata": {},
   "outputs": [],
   "source": [
    "from src.CotrxMatrix import CotrxMatrix, combine_reps\n",
    "from src.DMS_Profile import Genome"
   ]
  },
  {
   "cell_type": "code",
   "execution_count": null,
   "id": "00aceed5-16b7-4eb6-a691-3a1a4f9f8239",
   "metadata": {},
   "outputs": [],
   "source": [
    "# load rRNA sequence\n",
    "genome_rrna = Genome('/Users/leo/Documents/repos/lsStruct/data/genome/scer_chr_kan.FASTA', coords=(11, 451575, 458433), reverse=True)\n",
    "\n",
    "# dot bracket secondary structure\n",
    "dbr_18 = '...((((.........))))((((.(((((((.(((((((((.....(((.(((..((...(((..(.((..........)))..))))).....((((.......(((((((..((..(((((((............(((((....(((((((.....)))))))....)))))......(((((((((....)))))))))(((.(((((((.......(((((.(((....)))...))))).....))))))).)..))...((((.((((.....))))))))..))))))).))))))))).(((..(.(((....((((((((.......))))))))))).....))))...((((((((....))))...))))))))((((((..........)))))).((((....))))...)))))))......(.(((...(((((...))))).)))).)).))))))....((((..(((((((....)))))))..).))).....((((((((.......))))))))........((.((......(.((((((..(((....)))....))))))))).)).))))))))))).....(...(((.......((((...(((.((....((((((((((((.((((.(((.....)))...)))).....))))))))))))....((((((....(((((((((.....)))))))))....))))))..(((((((((.......(((..(.(...).)..(((.....)))...)))......)))))..)))).....(.((....(.((.(((.............))).))..)..)).)..))...((((((((((.((((((((((((((((((((...(((......)))......))))))))))))....(..((....)))))))))))))))).))))..))))...)))).(..((((((...(((.(((((.........))))).)))))))))..).......((((((.(((..(((((((...((..........)))))))))..)))...((....))...)))....))).))))(((((.((.((((....)))))))))))........(((((.(((((((..((..(((((((((((((((((.(.)((((........))))........(((((((....(((((....(((((((((..........)))))))))..))))).(.((.((((..((((((((((..(((((((((....)))..((((......))))..)))))).....((((((((.((((..(((((.((((((....))))))...)))))..))))))).((.(((((((...)))))))))....)))))...))))).)))...).))))))))....)))))))...)).)))))))))((..(((((((.(...(((.....(((.((((....)))).)))....)))....).)))))))....).((((((((((((........))))))))))))..).))))))(...(((((((((.......)))))))))..)..))...)))))))))).))....((.((...(((((((((((.((((((((((((..(((((((((((((((((((((((((((....)))))))))))))))))))))))))))..)))))))))))))))))))))))....))..))....((((((((((....))))))))))........'\n",
    "dbr_58 = '........................................((((((((......)))).....((((((....................)))).))...))))...(((...)))(((((((((....))))))))).....................'\n",
    "dbr_25 = '..........................((((((.....((....))......))))).).........((....))..(((((......((.....)).....))))).((((..((((((((((((((((((...))))))))))))))))))....(((((((.((((((((((((((((((((...(.(((((....))))))..(...).(((.......)))....))))))))..))))))))....)))))))))))........(((((((........))))))).....(((((........)))))..)))).................................((....))...............((((....))))..................................((((((((((((.(..(((((...((((..((((((((.....))))))))......))))...))))).(((((((((((((((((((((((......((((((((..((((((((((....))))))..)))).))))))))....))))).))))))))))).......(((....))).....)))))))..).))))))))))))..((((........))))((((((....(((((((((((((..((((..((((.....))))..))))...((....)).......(((((..(((((....)))))...))))).((((((((...((....))...))).))).))....)))))))))))))..((((...((((((...((((((((((((.((((...(((((((....)))))))....))))...((((.((.((........))))))))..).))))))))))).(((....))).......))))))......))))..((((((....(((((....))))).(((((((((.......((((((((..(.(((....((((((((((..((((((((.....))))))))))))))))))..)).).)..)))))))).(((((((((.........)))))))))...........)))))))).)...((((((((((.....))))))))))....(((......)))...(((((((...(((......(.((((((.................(((.((((((((((.......(((((.(((..(((.........)))..)))(...)(...((......)).).)))))...)))))))))))))...................))))))))))...)))))))(((((((((.........)))))))))....))))))(.((((((((.((......((((.((((....))))))))...))))))))))..).....))))))((((.((((.....((((((.......))))))((((.....(((((.....(((((((...((.....)).))))))).....(((.((...(((((.(((....))))))......(((((........))))).....))....))...(((((........)))))..((((.(((((((.....(((....))).......((((((...((((.(((((((.(((((((((.........))))))...(((((((..(((((((((((((.....)))))))))))))..)).)))))......(((((((....)))))))..)))...))))))).)))).........))))))............))))))))))).))).........((......))))))).((((.....))))..))))..((((....((((((((((((..............(((((...((....))....)))))((((((((((((((.((((((((((((((((((....(((((((((((((((((((.(((((((((((((....))))))))))))).))))))))))))).))))))....))))))))))(((((.....)))))....))))))))......)))))..)))))))))(...).......(((((((((..(((.........)))..(((((((((..((((.....))))..)..))))))))..((((.(((..((((((.(..(((....(((((....)))))....))))))))..)))))((((((.......))))))(...).((((.(...(.)).(((((((.)..))))))..)..)))..))))...)).)))))))....)))))))))))).))))))))))))....(((((........)))))..((((((((.(((.((.....(((((.(((((((.(((((..(((((((..((((((((((((((((((.........(((((..((....))............))))))))))))).))))))))))...(((((.....((((..(((((......)))))...............((((((....))))))..))))..))))).....)))))))...)))))..((((.....))).)((((((...........))))))..((..((((((((((.((((((.......))))))...))((......))....))))))))..(((((((((.......))))))))).(((....))).))..........((((((..((((.......)))))))))).........)))))..))))))).......(((..(((((((...((.......))...)))))))...)))..........(((((((((((..((((((((((....))))))))..)).(((((.....))))).....)))))..)..)))).).....(((((((....))).))))....))..)))))))))))..((((((((..((((.((((((((...............))))))))(((((...(((....(((((((((((....))))))..)))))...)))..)))))..(((....(((((..........)))))....))).))))....)))))))).......(((((((((((((................((((((.....))))))...............((((((((..(((((((((((......))))))))))))))))))).............)))))))))))))..((((((((((.......)))))....(((((((((.((..(..((((.((((((((......)))))))))))))...))....))).))))))..)))))..'\n",
    "dbr = 701*'?' + dbr_18 + 361*'?' + dbr_58 + 232*'?' + dbr_25 + 210*'?'\n",
    "\n",
    "# load co-transcriptional folding data\n",
    "min_cov = 900\n",
    "\n",
    "wild_1 = CotrxMatrix('/Users/leo/Documents/repos/PRODMSMaPseq/data/muts/pro_dms/pro_wild_1_rRNA.pkl', 'kk', genome_rrna.seq, '-')\n",
    "wild_2 = CotrxMatrix('/Users/leo/Documents/repos/PRODMSMaPseq/data/muts/pro_dms/pro_wild_2_rRNA.pkl', 'kk', genome_rrna.seq, '-')\n",
    "wild_3 = CotrxMatrix('/Users/leo/Documents/repos/PRODMSMaPseq/data/muts/pro_dms/pro_wild_3_rRNA.pkl', 'kk', genome_rrna.seq, '-')\n",
    "wild_4 = CotrxMatrix('/Users/leo/Documents/repos/PRODMSMaPseq/data/muts/pro_dms/pro_wild_4_rRNA.pkl', 'kk', genome_rrna.seq, '-')\n",
    "wild_5 = CotrxMatrix('/Users/leo/Documents/repos/PRODMSMaPseq/data/muts/pro_dms/pro_wild_5_rRNA.pkl', 'kk', genome_rrna.seq, '-')\n",
    "wild_6 = CotrxMatrix('/Users/leo/Documents/repos/PRODMSMaPseq/data/muts/pro_dms/pro_wild_6_rRNA.pkl', 'kk', genome_rrna.seq, '-')\n",
    "wild_7 = CotrxMatrix('/Users/leo/Documents/repos/PRODMSMaPseq/data/muts/pro_dms/pro_wild_7_rRNA.pkl', 'kk', genome_rrna.seq, '-')\n",
    "wild_8 = CotrxMatrix('/Users/leo/Documents/repos/PRODMSMaPseq/data/muts/pro_dms/pro_wild_8_rRNA.pkl', 'kk', genome_rrna.seq, '-')\n",
    "\n",
    "all_dms = combine_reps([wild_1, wild_2, wild_3, wild_4, wild_5, wild_6, wild_7, wild_8], 'all')\n",
    "all_dms.process(min_cov=min_cov)"
   ]
  },
  {
   "cell_type": "code",
   "execution_count": null,
   "id": "528bc84a-6e96-422c-9ee1-e062618fdb70",
   "metadata": {},
   "outputs": [],
   "source": [
    "coords = (380, 680)\n",
    "\n",
    "# save matrix as image\n",
    "all_dms.save_to_img('matrix_image.png', coords=coords, filter_ac=False, cmap_loc='../cmap.txt')\n",
    "\n",
    "# plot profiles for individual polymerase positions\n",
    "rea_dict = all_dms.plot_single_pol_pos([456, 468, 472], cmap_loc='../cmap.txt')"
   ]
  },
  {
   "cell_type": "markdown",
   "id": "8785598e-2e56-4c71-b8df-12b9f6dac08a",
   "metadata": {},
   "source": [
    "## Figure 2b"
   ]
  },
  {
   "cell_type": "code",
   "execution_count": null,
   "id": "8da6f190-3aaf-4c75-8088-b801ab1b5d6b",
   "metadata": {},
   "outputs": [],
   "source": [
    "from src.dms_utils import plot_structure, get_coords"
   ]
  },
  {
   "cell_type": "code",
   "execution_count": null,
   "id": "af837d83-5437-4e33-a56d-81de0cdaf536",
   "metadata": {},
   "outputs": [],
   "source": [
    "# updated structure of 5'ETS based on CoSTseq data\n",
    "ets_mby = '.((((((((((..(((((((((((.......(((((((....)))))))......))))))).))))...)))))))))).........((((((((.((...((((..(((((((((((....)))).)))))))))))...)).)))......)))))..(((((((.(((((..((((((((((.((((((((....)))))))).)))))))))).)))))))))))).......(((((((((((...........)))).))))))).....(((...(((((((((((.(((.....))).))))))..)))))...))).....(((((..(((((((..((((...(((((....)))))..))))..)))).)).)))))).....((((((...(((((((((((((...((((.....).))))))).).))))))))....)))))).|||||...||||||||||..............((((((((.(((.((((((((......)))).)))).)))...))).)))))(((((.((((..((.((((((....)))))).))..)))).)))))........................((.((((((.(((((((((.((((((..((((((((....)))))))).)))))).)))))).)))))))))))...........'\n",
    "ets_seq = genome_rrna.seq.replace('T', 'U')[1:701]\n",
    "ets_coo_mby = get_coords(ets_seq, ets_mby)"
   ]
  },
  {
   "cell_type": "code",
   "execution_count": null,
   "id": "dcd43f92-185a-4f53-81ba-7ec6e2c6480e",
   "metadata": {},
   "outputs": [],
   "source": [
    "# plot co-transcriptional DMS reactivities onto ETS structure\n",
    "fig, axs = plt.subplots(3, 1, figsize=(8, 20))\n",
    "fig.patch.set_facecolor('white')\n",
    "\n",
    "(x1, x2) = (390, 474)\n",
    "plot_structure(ets_coo_mby[x1:x2], ets_seq[x1:x2], rea_dict[456][1][x1+1:x2+1], ~(genome_rrna.mask_G()|genome_rrna.mask_U())[x1+1:x2+1], axs=axs[0], circle_size=100, text_size=6, cmap_loc='../cmap.txt')\n",
    "axs[0].set_title('Pol I position 456')\n",
    "plot_structure(ets_coo_mby[x1:x2], ets_seq[x1:x2], rea_dict[468][1][x1+1:x2+1], ~(genome_rrna.mask_G()|genome_rrna.mask_U())[x1+1:x2+1], axs=axs[1], circle_size=100, text_size=6, cmap_loc='../cmap.txt')\n",
    "axs[1].set_title('Pol I position 468')\n",
    "plot_structure(ets_coo_mby[x1:x2], ets_seq[x1:x2], rea_dict[472][1][x1+1:x2+1], ~(genome_rrna.mask_G()|genome_rrna.mask_U())[x1+1:x2+1], axs=axs[2], circle_size=100, text_size=6, cmap_loc='../cmap.txt')\n",
    "axs[2].set_title('Pol I position 472')\n",
    "\n",
    "plt.show()"
   ]
  },
  {
   "cell_type": "markdown",
   "id": "e35c1a29-c66b-4287-9afe-ba38b6b5dd2c",
   "metadata": {},
   "source": [
    "## Figure S2a and S2b"
   ]
  },
  {
   "cell_type": "code",
   "execution_count": null,
   "id": "910eea1d-19b9-4a7d-b863-5fb15e007e4e",
   "metadata": {},
   "outputs": [],
   "source": [
    "from src.DMS_Profile import Targeted_DMS_Profile, targeted_combine_profiles\n",
    "from src.dms_utils import rsample\n",
    "import pickle"
   ]
  },
  {
   "cell_type": "code",
   "execution_count": null,
   "id": "20d5ef64-a21b-4cc0-a748-d02a3643a4f3",
   "metadata": {},
   "outputs": [],
   "source": [
    "# load nascent and mature average rRNA data\n",
    "genome_rrna = Genome('/Users/leo/Documents/repos/lsStruct/data/genome/scer_chr_kan.FASTA', coords=(11, 451575, 458433), reverse=True)\n",
    "\n",
    "wild_nas_1 = Targeted_DMS_Profile('/Users/leo/Documents/repos/PRODMSMaPseq/data/muts/pro_dms/pro_wild_1_rRNA_agg.pkl', 'wild_R1', genome_rrna, reverse=True) \n",
    "wild_nas_2 = Targeted_DMS_Profile('/Users/leo/Documents/repos/PRODMSMaPseq/data/muts/pro_dms/pro_wild_2_rRNA_agg.pkl', 'wild_R2', genome_rrna, reverse=True)\n",
    "wild_nas_3 = Targeted_DMS_Profile('/Users/leo/Documents/repos/PRODMSMaPseq/data/muts/pro_dms/pro_wild_3_rRNA_agg.pkl', 'wild_R3', genome_rrna, reverse=True)\n",
    "wild_nas_4 = Targeted_DMS_Profile('/Users/leo/Documents/repos/PRODMSMaPseq/data/muts/pro_dms/pro_wild_4_rRNA_agg.pkl', 'wild_R3', genome_rrna, reverse=True)\n",
    "wild_nas_5 = Targeted_DMS_Profile('/Users/leo/Documents/repos/PRODMSMaPseq/data/muts/pro_dms/pro_wild_5_rRNA_agg.pkl', 'wild_R3', genome_rrna, reverse=True)\n",
    "wild_nas_6 = Targeted_DMS_Profile('/Users/leo/Documents/repos/PRODMSMaPseq/data/muts/pro_dms/pro_wild_6_rRNA_agg.pkl', 'wild_R3', genome_rrna, reverse=True)\n",
    "wild_nas_7 = Targeted_DMS_Profile('/Users/leo/Documents/repos/PRODMSMaPseq/data/muts/pro_dms/pro_wild_7_rRNA_agg.pkl', 'wild_R3', genome_rrna, reverse=True)\n",
    "wild_nas_8 = Targeted_DMS_Profile('/Users/leo/Documents/repos/PRODMSMaPseq/data/muts/pro_dms/pro_wild_8_rRNA_agg.pkl', 'wild_R3', genome_rrna, reverse=True)\n",
    "wild_nas = targeted_combine_profiles([wild_nas_1, wild_nas_2, wild_nas_3, wild_nas_4, wild_nas_5, wild_nas_6, wild_nas_7, wild_nas_8], 'wild', genome_rrna, per_exclude=10)"
   ]
  },
  {
   "cell_type": "code",
   "execution_count": null,
   "id": "4472f8ca-f6d0-4c42-beb6-202cf09f1b8f",
   "metadata": {},
   "outputs": [],
   "source": [
    "# known 5'ETS structure\n",
    "ets_dbr_kno = '.((((((((((..(((((((((((.......(((((((....)))))))......))))))).))))...)))))))))).........((((((((.((...((((..(((((((((((....)))).)))))))))))...)).)))......)))))..(((((((.(((((..((((((((((.((((((((....)))))))).)))))))))).)))))))))))).......(((((((((((...........)))).))))))).......|||||||||||.......(((...))).........................(((((..(((((((..((((...(((((....)))))..))))..)))).)).)))))).....((((((...(((((((((((((...((((.....).))))))).).))))))))....)))))).|||||...||||||||||..............((((((((.(((.((((((((......)))).)))).)))...))).)))))(((((.((((..((.((((((....)))))).))..)))).)))))........................((.((((((.(((((((((.((((((..((((((((....)))))))).)))))).)))))).)))))))))))...........'\n",
    "\n",
    "# structure prediction for the region of disagreement with known structure (nucleotides 274:331)\n",
    "_, E, ets_dbr_pre = rsample(genome_rrna.seq[274:331], (wild_nas.rat*wild_nas.vec_norm)[274:331], (wild_nas.mask & ~genome_rrna.mask_G())[274:331], rnastructure_path='/Users/leo/Builds/RNAstructure/exe', md=9999, ns=10000, t=303.15)\n",
    "\n",
    "# calculate coordinates for both 5'ETS variants\n",
    "coords_kno = get_coords(genome_rrna.seq[1:701], ets_dbr_kno)\n",
    "coords_pre = get_coords(genome_rrna.seq[1:701], ets_dbr_kno[:274] + ets_dbr_pre + ets_dbr_kno[331:])\n",
    "\n",
    "# draw figure\n",
    "fig, axs = plt.subplots(2, 1, figsize=(20, 8))\n",
    "fig.patch.set_facecolor('white')\n",
    "\n",
    "plot_structure(coords_kno, genome_rrna.seq[1:701], (wild_nas.rat*wild_nas.vec_norm)[1:701], (wild_nas.mask & ~genome_rrna.mask_G())[1:701], axs=axs[0], circle_size=30, text_size=5, cmap_loc='../cmap.txt')\n",
    "axs[0].set_title(\"5'-ETS post U3 annealing\")\n",
    "plot_structure(coords_pre, genome_rrna.seq[1:701], (wild_nas.rat*wild_nas.vec_norm)[1:701], (wild_nas.mask & ~genome_rrna.mask_G())[1:701], axs=axs[1], circle_size=30, text_size=5, cmap_loc='../cmap.txt')\n",
    "axs[1].set_title(\"5'-ETS according to CoSTseq data\")\n",
    "\n",
    "plt.show()"
   ]
  },
  {
   "cell_type": "markdown",
   "id": "f83e49e0-c411-40cd-b8e3-d8486aa14b1a",
   "metadata": {},
   "source": [
    "## Figure S2c"
   ]
  },
  {
   "cell_type": "code",
   "execution_count": null,
   "id": "a2fb58b4-2e56-4511-bf14-8ed799afffdc",
   "metadata": {},
   "outputs": [],
   "source": [
    "from src.pydscatter import dscatter_plot, dscatter_contour\n",
    "from sklearn.cluster import KMeans\n",
    "from tqdm import tqdm\n",
    "import matplotlib.colors as mplc\n",
    "\n",
    "def find_transitions_to_paired(mut, min_traj_len=10, n_final_state=3, n_unpaired_state=2):\n",
    "\n",
    "    # append all trajectories together to estimate states\n",
    "    all_x = np.array([0])\n",
    "    all_y = np.array([0])\n",
    "    all_i = []\n",
    "    for res in range(mut.size[0]):\n",
    "        if mut.mask_seq[res]:\n",
    "\n",
    "            x, y = mut.get_residue_txn(res, min_cov=800, binned=False)\n",
    "\n",
    "            if x.shape:\n",
    "                x = x[y>0]\n",
    "                y = np.log10(y[y>0])\n",
    "\n",
    "                if len(y) >= min_traj_len:\n",
    "                    all_x = np.hstack([all_x, x-x[0]+1+all_x[-1]])\n",
    "                    all_y = np.hstack([all_y, y])\n",
    "                    all_i += [res]*len(x)\n",
    "\n",
    "    all_y = all_y[1:]\n",
    "    all_y = (all_y - np.min(all_y)) / (np.max(all_y) - np.min(all_y))\n",
    "\n",
    "    means, stds = state_finding_kmeans(all_y, 4)\n",
    "    states = assign_states(all_y, means, stds)\n",
    "    y_hat = [means[i] for i in states]\n",
    "\n",
    "    # now let's find trajectories that end in unpaired state\n",
    "    state_sort = np.argsort(means)\n",
    "    \n",
    "    become_paired = []\n",
    "    paired_when = []\n",
    "    for res in np.unique(all_i):  \n",
    "        state_res = states[all_i==res]\n",
    "\n",
    "        if all(state_res[-n_final_state:] == state_sort[0]) and np.sum((state_res == state_sort[-1]) | (state_res == state_sort[-2])) >= n_unpaired_state:\n",
    "            i = 0\n",
    "            while state_res[::-1][i] == state_sort[0]:\n",
    "                i += 1\n",
    "            paired_when.append(len(state_res)-(i+1))\n",
    "            become_paired.append(res)\n",
    "            \n",
    "    return(means, stds, states, y_hat, become_paired, paired_when)\n",
    "\n",
    "\n",
    "def assign_states(data, means, stds):\n",
    "    # Assign each data point to one of the states based on the closest mean value.\n",
    "\n",
    "    n_states = len(means)\n",
    "    states = np.zeros(len(data), dtype=int)\n",
    "    for i, d in enumerate(data):\n",
    "        dists = np.abs(d - means) / stds\n",
    "        states[i] = np.argmin(dists)\n",
    "    return(states)\n",
    "\n",
    "\n",
    "def state_finding_kmeans(y, n_states):\n",
    "\n",
    "    # Normalize the data\n",
    "    data_norm = (y - np.mean(y)) / np.std(y)\n",
    "\n",
    "    # Apply K-means clustering\n",
    "    kmeans = KMeans(n_clusters=n_states, random_state=0, n_init='auto').fit(data_norm.reshape(-1, 1))\n",
    "\n",
    "    # Assign each data point to a state based on the closest mean value\n",
    "    means = kmeans.cluster_centers_ * np.std(y, axis=0) + np.mean(y, axis=0)\n",
    "    means = [i[0] for i in means]\n",
    "    stds = []\n",
    "    for i in range(n_states):\n",
    "        cluster_data = y[kmeans.labels_ == i]\n",
    "        stds.append(np.std(cluster_data))\n",
    "    \n",
    "    return(means, stds)"
   ]
  },
  {
   "cell_type": "code",
   "execution_count": null,
   "id": "710403cf-2af7-48a1-b96f-b739485b1b45",
   "metadata": {},
   "outputs": [],
   "source": [
    "# load Co-transcriptional matrices for wildtype and mutants that don't affect Pol I\n",
    "\n",
    "wild_1 = CotrxMatrix('/Users/leo/Documents/repos/PRODMSMaPseq/data/muts/pro_dms/pro_wild_1_rRNA.pkl', 'wild_R1', genome_rrna.seq, '-')\n",
    "wild_2 = CotrxMatrix('/Users/leo/Documents/repos/PRODMSMaPseq/data/muts/pro_dms/pro_wild_2_rRNA.pkl', 'wild_R2', genome_rrna.seq, '-')\n",
    "wild_3 = CotrxMatrix('/Users/leo/Documents/repos/PRODMSMaPseq/data/muts/pro_dms/pro_wild_3_rRNA.pkl', 'wild_R3', genome_rrna.seq, '-')\n",
    "wild_4 = CotrxMatrix('/Users/leo/Documents/repos/PRODMSMaPseq/data/muts/pro_dms/pro_wild_4_rRNA.pkl', 'wild_R4', genome_rrna.seq, '-')\n",
    "wild_5 = CotrxMatrix('/Users/leo/Documents/repos/PRODMSMaPseq/data/muts/pro_dms/pro_wild_5_rRNA.pkl', 'wild_R5', genome_rrna.seq, '-')\n",
    "wild_6 = CotrxMatrix('/Users/leo/Documents/repos/PRODMSMaPseq/data/muts/pro_dms/pro_wild_6_rRNA.pkl', 'wild_R6', genome_rrna.seq, '-')\n",
    "wild_7 = CotrxMatrix('/Users/leo/Documents/repos/PRODMSMaPseq/data/muts/pro_dms/pro_wild_7_rRNA.pkl', 'wild_R7', genome_rrna.seq, '-')\n",
    "wild_8 = CotrxMatrix('/Users/leo/Documents/repos/PRODMSMaPseq/data/muts/pro_dms/pro_wild_8_rRNA.pkl', 'wild_R8', genome_rrna.seq, '-')\n",
    "wild = combine_reps([wild_1, wild_2, wild_3, wild_4, wild_5, wild_6, wild_7, wild_8], 'wild')\n",
    "wild.process()\n",
    "\n",
    "spt4_1 = CotrxMatrix('/Users/leo/Documents/repos/PRODMSMaPseq/data/muts/pro_dms/pro_spt4_1_rRNA.pkl', 'spt4_R1', genome_rrna.seq, '-')\n",
    "spt4_2 = CotrxMatrix('/Users/leo/Documents/repos/PRODMSMaPseq/data/muts/pro_dms/pro_spt4_2_rRNA.pkl', 'spt4_R2', genome_rrna.seq, '-')\n",
    "spt4_3 = CotrxMatrix('/Users/leo/Documents/repos/PRODMSMaPseq/data/muts/pro_dms/pro_spt4_3_rRNA.pkl', 'spt4_R3', genome_rrna.seq, '-')\n",
    "spt4 = combine_reps([spt4_1, spt4_2, spt4_3], 'spt4')\n",
    "spt4.process()\n",
    "\n",
    "dbp3_1 = CotrxMatrix('/Users/leo/Documents/repos/PRODMSMaPseq/data/muts/pro_dms/pro_dbp3_1_rRNA.pkl', 'dbp3_R1', genome_rrna.seq, '-')\n",
    "dbp3_2 = CotrxMatrix('/Users/leo/Documents/repos/PRODMSMaPseq/data/muts/pro_dms/pro_dbp3_2_rRNA.pkl', 'dbp3_R2', genome_rrna.seq, '-')\n",
    "dbp3_3 = CotrxMatrix('/Users/leo/Documents/repos/PRODMSMaPseq/data/muts/pro_dms/pro_dbp3_3_rRNA.pkl', 'dbp3_R3', genome_rrna.seq, '-')\n",
    "dbp3 = combine_reps([dbp3_1, dbp3_2, dbp3_3], 'dbp3')\n",
    "dbp3.process()"
   ]
  },
  {
   "cell_type": "code",
   "execution_count": null,
   "id": "11a62a8a-035e-4e80-a04b-e5b044674465",
   "metadata": {},
   "outputs": [],
   "source": [
    "# find pairing status using kmeans, extract nucleotides that don't pair immediately\n",
    "paired_whens = []\n",
    "become_paireds = []\n",
    "xs = []\n",
    "ys = []\n",
    "for i, mut in enumerate(tqdm([wild, spt4, dbp3])):\n",
    "    \n",
    "    means, stds, states, y_hat, become_paired, paired_when = find_transitions_to_paired(mut)\n",
    "    paired_whens.append(paired_when)\n",
    "    become_paireds.append(become_paired)\n",
    "    for res in become_paired:\n",
    "        x, y = mut.get_residue_txn(res, min_cov=800, binned=False)\n",
    "        x = x-x[0]\n",
    "        xs.append(x)\n",
    "        ys.append(y)"
   ]
  },
  {
   "cell_type": "code",
   "execution_count": null,
   "id": "0b050188-c781-4fd8-b4af-d5030aa3cde2",
   "metadata": {},
   "outputs": [],
   "source": [
    "# draw figure\n",
    "plt.figure(figsize=(5, 3))\n",
    "\n",
    "cmap = np.array(pd.read_csv('../cmap.txt', header=None))/255\n",
    "cmap = mplc.ListedColormap(cmap)\n",
    "\n",
    "dscatter_plot(np.hstack(xs), np.hstack(ys), nbins=(200, 800), rasterized=True, cmap=cmap)\n",
    "dscatter_contour(np.hstack(xs), np.hstack(ys), nbins=(200, 800), cmap='Greys')\n",
    "plt.ylim(0, 1)\n",
    "plt.xlabel('Nucleotides synthesized')\n",
    "plt.ylabel('DMS reactivity')\n",
    "plt.show()"
   ]
  }
 ],
 "metadata": {
  "kernelspec": {
   "display_name": "Python 3 (ipykernel)",
   "language": "python",
   "name": "python3"
  },
  "language_info": {
   "codemirror_mode": {
    "name": "ipython",
    "version": 3
   },
   "file_extension": ".py",
   "mimetype": "text/x-python",
   "name": "python",
   "nbconvert_exporter": "python",
   "pygments_lexer": "ipython3",
   "version": "3.8.17"
  }
 },
 "nbformat": 4,
 "nbformat_minor": 5
}
