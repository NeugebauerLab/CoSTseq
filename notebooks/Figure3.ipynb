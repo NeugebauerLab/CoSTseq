{
 "cells": [
  {
   "cell_type": "code",
   "execution_count": null,
   "id": "f1c2cff3-ecde-44f3-a6e9-676d7cf6d3d8",
   "metadata": {},
   "outputs": [],
   "source": [
    "%config InlineBackend.figure_format = 'retina'\n",
    "import numpy as np\n",
    "import matplotlib.pyplot as plt\n",
    "import pandas as pd\n",
    "plt.rcParams['pdf.fonttype'] = 42"
   ]
  },
  {
   "cell_type": "markdown",
   "id": "a94376f0-896e-46f5-8af3-094a017a86d9",
   "metadata": {},
   "source": [
    "## Figure 3a"
   ]
  },
  {
   "cell_type": "code",
   "execution_count": null,
   "id": "50472423-41cb-42d9-a2ab-c592de513ef4",
   "metadata": {},
   "outputs": [],
   "source": [
    "from src.DMS_Profile import Genome, Targeted_DMS_Profile, targeted_combine_profiles, HDP"
   ]
  },
  {
   "cell_type": "code",
   "execution_count": null,
   "id": "75397d25-6cb7-4944-a548-a04f60bd3062",
   "metadata": {},
   "outputs": [],
   "source": [
    "# load rrna sequence\n",
    "genome_rrna = Genome('../data/genome/scer_chr_kan.FASTA', coords=(11, 451575, 458433), reverse=True)\n",
    "\n",
    "# ribosomal RNA secondary structure\n",
    "dbr_18 = '...((((.........))))((((.(((((((.(((((((((.....(((.(((..((...(((..(.((..........)))..))))).....((((.......(((((((..((..(((((((............(((((....(((((((.....)))))))....)))))......(((((((((....)))))))))(((.(((((((.......(((((.(((....)))...))))).....))))))).)..))...((((.((((.....))))))))..))))))).))))))))).(((..(.(((....((((((((.......))))))))))).....))))...((((((((....))))...))))))))((((((..........)))))).((((....))))...)))))))......(.(((...(((((...))))).)))).)).))))))....((((..(((((((....)))))))..).))).....((((((((.......))))))))........((.((......(.((((((..(((....)))....))))))))).)).))))))))))).....(...(((.......((((...(((.((....((((((((((((.((((.(((.....)))...)))).....))))))))))))....((((((....(((((((((.....)))))))))....))))))..(((((((((.......(((..(.(...).)..(((.....)))...)))......)))))..)))).....(.((....(.((.(((.............))).))..)..)).)..))...((((((((((.((((((((((((((((((((...(((......)))......))))))))))))....(..((....)))))))))))))))).))))..))))...)))).(..((((((...(((.(((((.........))))).)))))))))..).......((((((.(((..(((((((...((..........)))))))))..)))...((....))...)))....))).))))(((((.((.((((....)))))))))))........(((((.(((((((..((..(((((((((((((((((.(.)((((........))))........(((((((....(((((....(((((((((..........)))))))))..))))).(.((.((((..((((((((((..(((((((((....)))..((((......))))..)))))).....((((((((.((((..(((((.((((((....))))))...)))))..))))))).((.(((((((...)))))))))....)))))...))))).)))...).))))))))....)))))))...)).)))))))))((..(((((((.(...(((.....(((.((((....)))).)))....)))....).)))))))....).((((((((((((........))))))))))))..).))))))(...(((((((((.......)))))))))..)..))...)))))))))).))....((.((...(((((((((((.((((((((((((..(((((((((((((((((((((((((((....)))))))))))))))))))))))))))..)))))))))))))))))))))))....))..))....((((((((((....))))))))))........'\n",
    "dbr_58 = '........................................((((((((......)))).....((((((....................)))).))...))))...(((...)))(((((((((....))))))))).....................'\n",
    "dbr_25 = '..........................((((((.....((....))......))))).).........((....))..(((((......((.....)).....))))).((((..((((((((((((((((((...))))))))))))))))))....(((((((.((((((((((((((((((((...(.(((((....))))))..(...).(((.......)))....))))))))..))))))))....)))))))))))........(((((((........))))))).....(((((........)))))..)))).................................((....))...............((((....))))..................................((((((((((((.(..(((((...((((..((((((((.....))))))))......))))...))))).(((((((((((((((((((((((......((((((((..((((((((((....))))))..)))).))))))))....))))).))))))))))).......(((....))).....)))))))..).))))))))))))..((((........))))((((((....(((((((((((((..((((..((((.....))))..))))...((....)).......(((((..(((((....)))))...))))).((((((((...((....))...))).))).))....)))))))))))))..((((...((((((...((((((((((((.((((...(((((((....)))))))....))))...((((.((.((........))))))))..).))))))))))).(((....))).......))))))......))))..((((((....(((((....))))).(((((((((.......((((((((..(.(((....((((((((((..((((((((.....))))))))))))))))))..)).).)..)))))))).(((((((((.........)))))))))...........)))))))).)...((((((((((.....))))))))))....(((......)))...(((((((...(((......(.((((((.................(((.((((((((((.......(((((.(((..(((.........)))..)))(...)(...((......)).).)))))...)))))))))))))...................))))))))))...)))))))(((((((((.........)))))))))....))))))(.((((((((.((......((((.((((....))))))))...))))))))))..).....))))))((((.((((.....((((((.......))))))((((.....(((((.....(((((((...((.....)).))))))).....(((.((...(((((.(((....))))))......(((((........))))).....))....))...(((((........)))))..((((.(((((((.....(((....))).......((((((...((((.(((((((.(((((((((.........))))))...(((((((..(((((((((((((.....)))))))))))))..)).)))))......(((((((....)))))))..)))...))))))).)))).........))))))............))))))))))).))).........((......))))))).((((.....))))..))))..((((....((((((((((((..............(((((...((....))....)))))((((((((((((((.((((((((((((((((((....(((((((((((((((((((.(((((((((((((....))))))))))))).))))))))))))).))))))....))))))))))(((((.....)))))....))))))))......)))))..)))))))))(...).......(((((((((..(((.........)))..(((((((((..((((.....))))..)..))))))))..((((.(((..((((((.(..(((....(((((....)))))....))))))))..)))))((((((.......))))))(...).((((.(...(.)).(((((((.)..))))))..)..)))..))))...)).)))))))....)))))))))))).))))))))))))....(((((........)))))..((((((((.(((.((.....(((((.(((((((.(((((..(((((((..((((((((((((((((((.........(((((..((....))............))))))))))))).))))))))))...(((((.....((((..(((((......)))))...............((((((....))))))..))))..))))).....)))))))...)))))..((((.....))).)((((((...........))))))..((..((((((((((.((((((.......))))))...))((......))....))))))))..(((((((((.......))))))))).(((....))).))..........((((((..((((.......)))))))))).........)))))..))))))).......(((..(((((((...((.......))...)))))))...)))..........(((((((((((..((((((((((....))))))))..)).(((((.....))))).....)))))..)..)))).).....(((((((....))).))))....))..)))))))))))..((((((((..((((.((((((((...............))))))))(((((...(((....(((((((((((....))))))..)))))...)))..)))))..(((....(((((..........)))))....))).))))....)))))))).......(((((((((((((................((((((.....))))))...............((((((((..(((((((((((......))))))))))))))))))).............)))))))))))))..((((((((((.......)))))....(((((((((.((..(..((((.((((((((......)))))))))))))...))....))).))))))..)))))..'\n",
    "dbr_full = 701*'?' + dbr_18 + 361*'?' + dbr_58 + 232*'?' + dbr_25 + 210*'?'\n",
    "mask_dat = np.array([True if i in [')', '(', '.'] else False for i in dbr_full])\n",
    "\n",
    "# load CoSTseq data\n",
    "wild_nas_1 = Targeted_DMS_Profile('../data/pro_wild_1_rRNA_agg.pkl', 'wild_R1', genome_rrna, reverse=True) \n",
    "wild_nas_2 = Targeted_DMS_Profile('../data/pro_wild_2_rRNA_agg.pkl', 'wild_R2', genome_rrna, reverse=True)\n",
    "wild_nas_3 = Targeted_DMS_Profile('../data/pro_wild_3_rRNA_agg.pkl', 'wild_R3', genome_rrna, reverse=True)\n",
    "wild_nas = targeted_combine_profiles([wild_nas_1, wild_nas_2, wild_nas_3], 'wild', genome_rrna, per_exclude=10)\n",
    "\n",
    "dbp7_nas_1 = Targeted_DMS_Profile('../data/pro_dbp7_1_rRNA_agg.pkl', 'dbp7_R1', genome_rrna, reverse=True) \n",
    "dbp7_nas_2 = Targeted_DMS_Profile('../data/pro_dbp7_2_rRNA_agg.pkl', 'dbp7_R2', genome_rrna, reverse=True)\n",
    "dbp7_nas_3 = Targeted_DMS_Profile('../data/pro_dbp7_3_rRNA_agg.pkl', 'dbp7_R3', genome_rrna, reverse=True)\n",
    "dbp7_nas = targeted_combine_profiles([dbp7_nas_1, dbp7_nas_2, dbp7_nas_3], 'dbp7', genome_rrna, per_exclude=10)\n",
    "\n",
    "# load HDProbe data\n",
    "dbp7_hdp   = HDP('../data/mat_dbp7_mrna.csv', 'dbp7', thresh_col='padj_BH')\n",
    "dbp7_hdp_r = HDP('../data/pro_dbp7_rrna.csv', 'dbp7', thresh_col='padj_BF')\n",
    "dbp3_hdp   = HDP('../data/mat_dbp3_mrna.csv', 'dbp3', thresh_col='padj_BH')\n",
    "dbp3_hdp_r = HDP('../data/pro_dbp3_rrna.csv', 'dbp3', thresh_col='padj_BF')\n",
    "spt4_hdp   = HDP('../data/mat_spt4_mrna.csv', 'spt4', thresh_col='padj_BH')\n",
    "spt4_hdp_r = HDP('../data/pro_spt4_rrna.csv', 'spt4', thresh_col='padj_BF')"
   ]
  },
  {
   "cell_type": "code",
   "execution_count": null,
   "id": "35ae7fc0-7aed-4c0a-98e9-123e84b8f1bf",
   "metadata": {},
   "outputs": [],
   "source": [
    "#draw figure\n",
    "fig, axs = plt.subplots(2, 1, figsize=[18, 3])\n",
    "plt.subplots_adjust(hspace=0.3)\n",
    "\n",
    "coords = (3547-100, 3547+100)\n",
    "\n",
    "# mark significantly different nucleotides\n",
    "sig_dbp7 = dbp7_hdp_r.hdp[np.abs(dbp7_hdp_r.hdp['difference']) >= 0.8]['position']\n",
    "sig_string_nas = ''.join(['*' if pos+1 in list(sig_dbp7) else ' ' for pos in range(len(genome_rrna.seq))])\n",
    "\n",
    "# wildtype\n",
    "x, y, norm_vec = wild_nas.plot_profile(coords[0], coords[1], genome_rrna, axs[0], cmap_loc='../cmap.txt')\n",
    "axs[0].text(0.005, 0.82, 'wildtype nascent', transform=axs[0].transAxes)\n",
    "axs[0].set_xticks(np.arange(coords[0], coords[1], 1))\n",
    "axs[0].set_xticklabels(sig_string_nas[coords[0]:coords[1]], fontname='Courier New', fontsize=8, weight='bold')\n",
    "\n",
    "# dbp7∆\n",
    "x, y, norm_vec = dbp7_nas.plot_profile(coords[0], coords[1], genome_rrna, axs[1], cmap_loc='../cmap.txt')\n",
    "axs[1].text(0.005, 0.82, 'dbp7∆ nascent', transform=axs[1].transAxes)\n",
    "\n",
    "plt.setp(axs, ylim=(0, 4), ylabel='DMS reactivity')\n",
    "plt.show()"
   ]
  },
  {
   "cell_type": "markdown",
   "id": "0d54b7e3-756b-4703-8720-4cc5762268ab",
   "metadata": {},
   "source": [
    "## Figure 3b"
   ]
  },
  {
   "cell_type": "code",
   "execution_count": null,
   "id": "c78d5892-4f0c-47b4-a532-c1c119d29f94",
   "metadata": {},
   "outputs": [],
   "source": [
    "from src.CotrxMatrix import CotrxMatrix, combine_reps\n",
    "from src.dms_utils import weighted_moving_average"
   ]
  },
  {
   "cell_type": "code",
   "execution_count": null,
   "id": "91a75ef1-67e1-4bad-8783-c320320d21b2",
   "metadata": {},
   "outputs": [],
   "source": [
    "# load co-transcriptional matrices\n",
    "\n",
    "wild_1 = CotrxMatrix('../data/pro_wild_1_rRNA.pkl', 'wild_R1', genome_rrna.seq, '-')\n",
    "wild_2 = CotrxMatrix('../data/pro_wild_2_rRNA.pkl', 'wild_R2', genome_rrna.seq, '-')\n",
    "wild_3 = CotrxMatrix('../data/pro_wild_3_rRNA.pkl', 'wild_R3', genome_rrna.seq, '-')\n",
    "wild_7 = CotrxMatrix('../data/pro_wild_7_rRNA.pkl', 'wild_R7', genome_rrna.seq, '-')\n",
    "wild_8 = CotrxMatrix('../data/pro_wild_8_rRNA.pkl', 'wild_R8', genome_rrna.seq, '-')\n",
    "wild = combine_reps([wild_1, wild_2, wild_3, wild_7, wild_8], 'wild') # reps 4, 5, 6 were noisy in this area (but Pol I average data is fine), therefore not included here. All other mutants agree with these wt profiles, so therefore it's okay to exclude the noisy ones here.\n",
    "wild.process()\n",
    "\n",
    "dbp7_1 = CotrxMatrix('../data/pro_dbp7_1_rRNA.pkl', 'dbp7_R1', genome_rrna.seq, '-')\n",
    "dbp7_2 = CotrxMatrix('../data/pro_dbp7_2_rRNA.pkl', 'dbp7_R2', genome_rrna.seq, '-')\n",
    "dbp7_3 = CotrxMatrix('../data/pro_dbp7_3_rRNA.pkl', 'dbp7_R3', genome_rrna.seq, '-')\n",
    "dbp7 = combine_reps([dbp7_1, dbp7_2, dbp7_3], 'dbp7')\n",
    "dbp7.process()\n",
    "\n",
    "dbp3_1 = CotrxMatrix('../data/pro_dbp3_1_rRNA.pkl', 'dbp3_R1', genome_rrna.seq, '-')\n",
    "dbp3_2 = CotrxMatrix('../data/pro_dbp3_2_rRNA.pkl', 'dbp3_R2', genome_rrna.seq, '-')\n",
    "dbp3_3 = CotrxMatrix('../data/pro_dbp3_3_rRNA.pkl', 'dbp3_R3', genome_rrna.seq, '-')\n",
    "dbp3 = combine_reps([dbp3_1, dbp3_2, dbp3_3], 'dbp3')\n",
    "dbp3.process()"
   ]
  },
  {
   "cell_type": "code",
   "execution_count": null,
   "id": "4affc5b1-8c3d-4175-afba-f76d88bc587f",
   "metadata": {},
   "outputs": [],
   "source": [
    "fig, axs = plt.subplots(1, 4, figsize=(15,2), sharey=True, sharex=True)\n",
    "\n",
    "for i, res in enumerate([3547, 3569, 3570, 3574]):\n",
    "    x_1, y_1 = wild.get_residue_txn(res, min_cov=800, binned=False)\n",
    "    z_1 = weighted_moving_average(x_1, y_1, 10)\n",
    "\n",
    "    x_2, y_2 = dbp7.get_residue_txn(res, min_cov=800, binned=False)\n",
    "    z_2 = weighted_moving_average(x_2, y_2, 5)\n",
    "\n",
    "    axs[i].plot(x_1[x_1<3750], y_1[x_1<3750], 'ok', ms=5, label='wildtype')\n",
    "    axs[i].plot(x_1[x_1<3750], z_1[x_1<3750], '-k', lw=2)\n",
    "    axs[i].plot(x_2[x_2<3750], y_2[x_2<3750], 'og', ms=5, label='dbp7∆')\n",
    "    axs[i].plot(x_2[x_2<3750], z_2[x_2<3750], '-g', lw=2)\n",
    "    axs[i].set_title(f\"Pol I at {res+1}\")\n",
    "\n",
    "axs[0].legend()\n",
    "plt.setp(axs, ylim=[0, 3], xlim=[3550,3750])\n",
    "plt.show()"
   ]
  },
  {
   "cell_type": "markdown",
   "id": "40f88c68-bebd-47c1-a886-9f4ade822655",
   "metadata": {},
   "source": [
    "## Figure 3c"
   ]
  },
  {
   "cell_type": "code",
   "execution_count": null,
   "id": "be165aca-90c7-4029-97fa-3dcdcc242aef",
   "metadata": {},
   "outputs": [],
   "source": [
    "from tqdm import tqdm\n",
    "from scipy.interpolate import interp1d\n",
    "from src.dms_utils import moving_average"
   ]
  },
  {
   "cell_type": "code",
   "execution_count": null,
   "id": "45fe50e7-48c6-4eef-903f-67ca9a9d501e",
   "metadata": {},
   "outputs": [],
   "source": [
    "# difference in trajectories for a range of positions behind polymerase\n",
    "def compare_trajectories(mat_1, mat_2, pos_diff, min_n=30, avg_win=30):\n",
    "\n",
    "    diffs_avg_all = []\n",
    "    for pos_diff in tqdm(pos_diff): # range of polymerase positions that should be included in the comparison\n",
    "        diffs = []\n",
    "        resis = []\n",
    "        for res in range(len(genome_rrna.seq)):\n",
    "            if genome_rrna.seq[res] in ['A', 'C', 'U']:\n",
    "\n",
    "                # get trajectories\n",
    "                x_1, y_1 = mat_1.get_residue_txn(res, min_cov=800, binned=False)\n",
    "                x_2, y_2 = mat_2.get_residue_txn(res, min_cov=800, binned=False)\n",
    "\n",
    "                if x_1.size >= min_n and y_1.size >= min_n:\n",
    "                    # calculate moving average for trajectories\n",
    "                    z_1 = weighted_moving_average(x_1, y_1, 7)\n",
    "                    z_2 = weighted_moving_average(x_2, y_2, 7)\n",
    "\n",
    "                    # interpolate on moving average\n",
    "                    fit_1 = interp1d(x_1, z_1)\n",
    "                    xin_1 = np.arange(x_1[0], x_1[-1]+1)\n",
    "                    int_1 = fit_1(xin_1)\n",
    "\n",
    "                    fit_2 = interp1d(x_2, z_2)\n",
    "                    xin_2 = np.arange(x_2[0], x_2[-1]+1)\n",
    "                    int_2 = fit_2(xin_2)\n",
    "\n",
    "                    # if the requested nucleotide position is in range, calculate the difference\n",
    "                    if int_1[xin_1==res+pos_diff].size == 1 and int_2[xin_2==res+pos_diff].size == 1:\n",
    "                        resis.append(res)\n",
    "                        diffs.append(float(int_1[xin_1==(res+pos_diff)])-float(int_2[xin_2==(res+pos_diff)]))\n",
    "                    else:\n",
    "                        resis.append(res)\n",
    "                        diffs.append(np.nan)\n",
    "                else:\n",
    "                    resis.append(res)\n",
    "                    diffs.append(np.nan)\n",
    "\n",
    "        # calculate moving average of difference vector\n",
    "        diffs_avg = moving_average(diffs, avg_win)\n",
    "        diffs_avg_all.append(diffs_avg)\n",
    "    \n",
    "    return(diffs_avg_all, resis)\n",
    "\n",
    "# slightly affecting the outcome in different ways:\n",
    "# - sliding window size\n",
    "# - which Pol positions to include\n",
    "# - min number of data points in trajectory"
   ]
  },
  {
   "cell_type": "code",
   "execution_count": null,
   "id": "5b813135-b9b9-40ff-82f8-66ac44af6c5f",
   "metadata": {},
   "outputs": [],
   "source": [
    "wild_dbp7, resis = compare_trajectories(wild, dbp7, np.arange(80, 151, 1))\n",
    "wild_dbp3, resis = compare_trajectories(wild, dbp3, np.arange(80, 151, 1))"
   ]
  },
  {
   "cell_type": "code",
   "execution_count": null,
   "id": "ea91616a-e726-4a08-bfe0-fd09639fc98a",
   "metadata": {},
   "outputs": [],
   "source": [
    "fig, axs = plt.subplots(2, 1, figsize=(15, 6), sharex=True, sharey=True)\n",
    "\n",
    "for ax, diffs_avg_all in zip(axs, [wild_dbp7, wild_dbp3]):\n",
    "    ax.fill_between(np.arange(0, len(mask_dat)), mask_dat, color='lightgray')\n",
    "    ax.fill_between(resis, np.nanmedian(diffs_avg_all, axis=0), color='red')\n",
    "    for i in diffs_avg_all:\n",
    "        ax.plot(resis, i, '-g', alpha=0.05)\n",
    "        ax.plot([0, 6600], [0, 0], '--k')\n",
    "    \n",
    "plt.setp(axs, ylim=[-0.5, 0.5])\n",
    "plt.show()"
   ]
  },
  {
   "cell_type": "markdown",
   "id": "92a7a270-ed57-4522-b3b0-fb9e369ba495",
   "metadata": {},
   "source": [
    "## Figure S3b"
   ]
  },
  {
   "cell_type": "code",
   "execution_count": null,
   "id": "29a33201-9181-4a92-8c41-a0639ebe6d6b",
   "metadata": {},
   "outputs": [],
   "source": [
    "# load HDProbe data\n",
    "dbp7_hdp_r = HDP('../data/pro_dbp7_rrna.csv', 'dbp7', thresh_col='padj_BF')\n",
    "\n",
    "# plot\n",
    "fig, axs = plt.subplots(figsize=(3, 3))\n",
    "dbp7_hdp_r.erupt(axs, cmap_loc='../cmap.txt', alpha=0.5, edgecolors='none')"
   ]
  },
  {
   "cell_type": "markdown",
   "id": "849f5f2a-5380-4694-8bfb-b7f59726394c",
   "metadata": {},
   "source": [
    "## Figure S3c"
   ]
  },
  {
   "cell_type": "code",
   "execution_count": null,
   "id": "ce4b8657-ff6b-4aa3-a263-e9a55b0a135b",
   "metadata": {},
   "outputs": [],
   "source": [
    "fig, axs = plt.subplots(1, 4, figsize=(15,2), sharey=True, sharex=True)\n",
    "\n",
    "for i, res in enumerate([3547, 3569, 3570, 3574]):\n",
    "    x_1, y_1 = wild.get_residue_txn(res, min_cov=800, binned=False)\n",
    "    z_1 = weighted_moving_average(x_1, y_1, 10)\n",
    "\n",
    "    x_3, y_3 = dbp3.get_residue_txn(res, min_cov=800, binned=False)\n",
    "    z_3 = weighted_moving_average(x_3, y_3, 5)\n",
    "\n",
    "    axs[i].plot(x_1[x_1<3750], y_1[x_1<3750], 'ok', ms=5, label='wildtype')\n",
    "    axs[i].plot(x_1[x_1<3750], z_1[x_1<3750], '-k', lw=2)\n",
    "    axs[i].plot(x_3[x_3<3750], y_3[x_3<3750], 'og', ms=5, label='dbp3∆')\n",
    "    axs[i].plot(x_3[x_3<3750], z_3[x_3<3750], '-g', lw=2)\n",
    "    axs[i].set_title(f\"Pol I at {res+1}\")\n",
    "\n",
    "axs[0].legend()\n",
    "plt.setp(axs, ylim=[0, 3], xlim=[3550,3750])\n",
    "plt.show()"
   ]
  },
  {
   "cell_type": "markdown",
   "id": "b3d42dcf-641d-4bc4-8e36-4db35260e0f3",
   "metadata": {},
   "source": [
    "## Figure S3d"
   ]
  },
  {
   "cell_type": "code",
   "execution_count": null,
   "id": "ecd38e54-8b8b-4467-b483-7e53883ddac2",
   "metadata": {},
   "outputs": [],
   "source": [
    "# load HDProbe data\n",
    "dbp7_hdp   = HDP('../data/mat_dbp7_mrna.csv', 'dbp7', thresh_col='padj_BH')\n",
    "\n",
    "# plot\n",
    "fig, axs = plt.subplots(figsize=(3, 3))\n",
    "dbp7_hdp.erupt(axs, cmap_loc='../cmap.txt', alpha=0.5, edgecolors='none')"
   ]
  },
  {
   "cell_type": "markdown",
   "id": "e86b2707-7554-4f1e-9fcb-aad40bbefb23",
   "metadata": {},
   "source": [
    "## Figure S3e"
   ]
  },
  {
   "cell_type": "code",
   "execution_count": null,
   "id": "f7a24f0d-f831-491d-8a70-60127046a9f4",
   "metadata": {},
   "outputs": [],
   "source": [
    "from src.DMS_Profile import DMS_Profile, combine_profiles, Annotation"
   ]
  },
  {
   "cell_type": "code",
   "execution_count": null,
   "id": "dede88e2-9287-4fbf-b87c-d0217ef362b4",
   "metadata": {},
   "outputs": [],
   "source": [
    "# load genome and annotation\n",
    "genome = Genome('../data/genome/scer_chr_kan.FASTA')\n",
    "annotation = Annotation('../data/genome/scer_kan.gff')"
   ]
  },
  {
   "cell_type": "code",
   "execution_count": null,
   "id": "a4f5b07c-61ab-4c76-8a76-e8d660db70c9",
   "metadata": {},
   "outputs": [],
   "source": [
    "# load mRNA DMS-MaPseq data\n",
    "mat_wild_1 = DMS_Profile('../data/mat_dms/mat_wild_1_mRNA_agg.pkl', 's', genome)\n",
    "mat_wild_2 = DMS_Profile('../data/mat_dms/mat_wild_2_mRNA_agg.pkl', 's', genome)\n",
    "mat_wild_3 = DMS_Profile('../data/mat_dms/mat_wild_3_mRNA_agg.pkl', 's', genome)\n",
    "mat_wild   = combine_profiles([mat_wild_1, mat_wild_2, mat_wild_3], 'wild', genome, min_cov=800)\n",
    "\n",
    "mat_dbp7_1 = DMS_Profile('../data/mat_dms/mat_dbp7_1_mRNA_agg.pkl', 's', genome)\n",
    "mat_dbp7_2 = DMS_Profile('../data/mat_dms/mat_dbp7_2_mRNA_agg.pkl', 's', genome)\n",
    "mat_dbp7_3 = DMS_Profile('../data/mat_dms/mat_dbp7_3_mRNA_agg.pkl', 's', genome)\n",
    "mat_dbp7   = combine_profiles([mat_dbp7_1, mat_dbp7_2, mat_dbp7_3], 'dbp7', genome, min_cov=800)"
   ]
  },
  {
   "cell_type": "code",
   "execution_count": null,
   "id": "76d1823a-4c64-45f8-9866-5840be5e584d",
   "metadata": {},
   "outputs": [],
   "source": [
    "# annotate hits and find their relative positions\n",
    "dbp7_hdp.annotate_hits(annotation)\n",
    "binsize=0.075\n",
    "bins_hit, hist_hit, bins_cov_dbp7, hist_cov_dbp7, rela_all, anno_all = dbp7_hdp.get_hdp_meta(annotation, mat_dbp7.cov_p, mat_dbp7.cov_m, sig_threshold=0.05, binsize=0.075, n_bins_cov=100)\n",
    "_       ,        _, bins_cov_wild, hist_cov_wild, _       , _        = dbp7_hdp.get_hdp_meta(annotation, mat_wild.cov_p, mat_wild.cov_m, sig_threshold=0.05, binsize=0.075, n_bins_cov=100)"
   ]
  },
  {
   "cell_type": "code",
   "execution_count": null,
   "id": "e970c024-2056-43ad-8c84-3c9638ef0899",
   "metadata": {},
   "outputs": [],
   "source": [
    "# draw figure\n",
    "fig, ax1 = plt.subplots(figsize=(5,3))\n",
    "\n",
    "ax2 = ax1.twinx()\n",
    "ax3 = ax1.twinx()\n",
    "ax1.plot(bins_hit, hist_hit, '-o')\n",
    "ax2.plot(bins_cov_dbp7, hist_cov_dbp7, '-k')\n",
    "ax3.plot(bins_cov_wild, hist_cov_wild, '-g')\n",
    "ax1.set_xlabel('relative position in transcript')\n",
    "plt.ylabel('Median coverage')\n",
    "ax1.set_ylabel('Number of HDP hits')\n",
    "# plt.savefig('figs_raw/hdp_mRNA_dbp7_meta.pdf')  \n",
    "plt.show()"
   ]
  }
 ],
 "metadata": {
  "kernelspec": {
   "display_name": "Python 3 (ipykernel)",
   "language": "python",
   "name": "python3"
  },
  "language_info": {
   "codemirror_mode": {
    "name": "ipython",
    "version": 3
   },
   "file_extension": ".py",
   "mimetype": "text/x-python",
   "name": "python",
   "nbconvert_exporter": "python",
   "pygments_lexer": "ipython3",
   "version": "3.8.17"
  }
 },
 "nbformat": 4,
 "nbformat_minor": 5
}
