{
 "cells": [
  {
   "cell_type": "code",
   "execution_count": null,
   "id": "ffbfcec9-6714-4438-8cfd-8693377d6426",
   "metadata": {},
   "outputs": [],
   "source": [
    "%config InlineBackend.figure_format = 'retina'\n",
    "import numpy as np\n",
    "import matplotlib.pyplot as plt\n",
    "import pandas as pd\n",
    "plt.rcParams['pdf.fonttype'] = 42"
   ]
  },
  {
   "cell_type": "markdown",
   "id": "28d2d593-1e13-49f8-97cb-93ae2ece0932",
   "metadata": {},
   "source": [
    "## Figure 4a"
   ]
  },
  {
   "cell_type": "code",
   "execution_count": null,
   "id": "6c5856b3-4c88-48dd-be61-8095ec734c16",
   "metadata": {},
   "outputs": [],
   "source": [
    "from src.DMS_Profile import DMS_Profile, combine_profiles, Genome, Annotation"
   ]
  },
  {
   "cell_type": "code",
   "execution_count": null,
   "id": "85c92ec8-ac1e-4f5b-8daa-05adb73cefaa",
   "metadata": {},
   "outputs": [],
   "source": [
    "# load genome and annotation\n",
    "\n",
    "genome = Genome('/Users/leo/Documents/repos/lsStruct/data/genome/scer_chr_kan.FASTA')\n",
    "annotation = Annotation('/Users/leo/Documents/repos/lsStruct/data/genome/scer_kan.gff')"
   ]
  },
  {
   "cell_type": "code",
   "execution_count": null,
   "id": "d967d6d0-4842-48b5-9ccd-76fb9c87e3bc",
   "metadata": {},
   "outputs": [],
   "source": [
    "# load CoSTseq and DMS-MaPseq data\n",
    "\n",
    "dms_pro = combine_profiles([ DMS_Profile('/Users/leo/Documents/repos/PRODMSMaPseq/data/muts/pro_dms/pro_wild_1_mRNA_agg.pkl', 'wild_R1', genome), \n",
    "                             DMS_Profile('/Users/leo/Documents/repos/PRODMSMaPseq/data/muts/pro_dms/pro_wild_2_mRNA_agg.pkl', 'wild_R2', genome), \n",
    "                             DMS_Profile('/Users/leo/Documents/repos/PRODMSMaPseq/data/muts/pro_dms/pro_wild_3_mRNA_agg.pkl', 'wild_R3', genome),\n",
    "                             DMS_Profile('/Users/leo/Documents/repos/PRODMSMaPseq/data/muts/pro_dms/pro_dbp7_1_mRNA_agg.pkl', 'dbp7_R1', genome), \n",
    "                             DMS_Profile('/Users/leo/Documents/repos/PRODMSMaPseq/data/muts/pro_dms/pro_dbp7_2_mRNA_agg.pkl', 'dbp7_R2', genome), \n",
    "                             DMS_Profile('/Users/leo/Documents/repos/PRODMSMaPseq/data/muts/pro_dms/pro_dbp7_3_mRNA_agg.pkl', 'dbp7_R3', genome),\n",
    "                             DMS_Profile('/Users/leo/Documents/repos/PRODMSMaPseq/data/muts/pro_dms/pro_dbp3_1_mRNA_agg.pkl', 'dbp3_R1', genome), \n",
    "                             DMS_Profile('/Users/leo/Documents/repos/PRODMSMaPseq/data/muts/pro_dms/pro_dbp3_2_mRNA_agg.pkl', 'dbp3_R2', genome), \n",
    "                             DMS_Profile('/Users/leo/Documents/repos/PRODMSMaPseq/data/muts/pro_dms/pro_dbp3_3_mRNA_agg.pkl', 'dbp3_R3', genome),\n",
    "                             DMS_Profile('/Users/leo/Documents/repos/PRODMSMaPseq/data/muts/pro_dms/pro_spt4_1_mRNA_agg.pkl', 'spt4_R1', genome), \n",
    "                             DMS_Profile('/Users/leo/Documents/repos/PRODMSMaPseq/data/muts/pro_dms/pro_spt4_2_mRNA_agg.pkl', 'spt4_R2', genome), \n",
    "                             DMS_Profile('/Users/leo/Documents/repos/PRODMSMaPseq/data/muts/pro_dms/pro_spt4_3_mRNA_agg.pkl', 'spt4_R3', genome),\n",
    "                             DMS_Profile('/Users/leo/Documents/repos/PRODMSMaPseq/data/muts/pro_dms/pro_stm1_1_mRNA_agg.pkl', 'stm1_R1', genome), \n",
    "                             DMS_Profile('/Users/leo/Documents/repos/PRODMSMaPseq/data/muts/pro_dms/pro_stm1_2_mRNA_agg.pkl', 'stm1_R2', genome), \n",
    "                             DMS_Profile('/Users/leo/Documents/repos/PRODMSMaPseq/data/muts/pro_dms/pro_stm1_3_mRNA_agg.pkl', 'stm1_R3', genome)], 'all_pro', genome, min_cov=900)\n",
    "\n",
    "dms_mat = combine_profiles([ DMS_Profile('/Users/leo/Documents/repos/PRODMSMaPseq/data/muts/mat_dms/mat_wild_1_mRNA_agg.pkl', 'wild_R1', genome), \n",
    "                             DMS_Profile('/Users/leo/Documents/repos/PRODMSMaPseq/data/muts/mat_dms/mat_wild_2_mRNA_agg.pkl', 'wild_R2', genome), \n",
    "                             DMS_Profile('/Users/leo/Documents/repos/PRODMSMaPseq/data/muts/mat_dms/mat_wild_3_mRNA_agg.pkl', 'wild_R3', genome),\n",
    "                             DMS_Profile('/Users/leo/Documents/repos/PRODMSMaPseq/data/muts/mat_dms/mat_dbp7_1_mRNA_agg.pkl', 'dbp7_R1', genome), \n",
    "                             DMS_Profile('/Users/leo/Documents/repos/PRODMSMaPseq/data/muts/mat_dms/mat_dbp7_2_mRNA_agg.pkl', 'dbp7_R2', genome), \n",
    "                             DMS_Profile('/Users/leo/Documents/repos/PRODMSMaPseq/data/muts/mat_dms/mat_dbp7_3_mRNA_agg.pkl', 'dbp7_R3', genome),\n",
    "                             DMS_Profile('/Users/leo/Documents/repos/PRODMSMaPseq/data/muts/mat_dms/mat_dbp3_1_mRNA_agg.pkl', 'dbp3_R1', genome), \n",
    "                             DMS_Profile('/Users/leo/Documents/repos/PRODMSMaPseq/data/muts/mat_dms/mat_dbp3_2_mRNA_agg.pkl', 'dbp3_R2', genome), \n",
    "                             DMS_Profile('/Users/leo/Documents/repos/PRODMSMaPseq/data/muts/mat_dms/mat_dbp3_3_mRNA_agg.pkl', 'dbp3_R3', genome),\n",
    "                             DMS_Profile('/Users/leo/Documents/repos/PRODMSMaPseq/data/muts/mat_dms/mat_spt4_1_mRNA_agg.pkl', 'spt4_R1', genome), \n",
    "                             DMS_Profile('/Users/leo/Documents/repos/PRODMSMaPseq/data/muts/mat_dms/mat_spt4_2_mRNA_agg.pkl', 'spt4_R2', genome), \n",
    "                             DMS_Profile('/Users/leo/Documents/repos/PRODMSMaPseq/data/muts/mat_dms/mat_spt4_3_mRNA_agg.pkl', 'spt4_R3', genome),\n",
    "                             DMS_Profile('/Users/leo/Documents/repos/PRODMSMaPseq/data/muts/mat_dms/mat_stm1_1_mRNA_agg.pkl', 'stm1_R1', genome), \n",
    "                             DMS_Profile('/Users/leo/Documents/repos/PRODMSMaPseq/data/muts/mat_dms/mat_stm1_2_mRNA_agg.pkl', 'stm1_R2', genome), \n",
    "                             DMS_Profile('/Users/leo/Documents/repos/PRODMSMaPseq/data/muts/mat_dms/mat_stm1_3_mRNA_agg.pkl', 'stm1_R3', genome)], 'all_mat', genome, min_cov=900)"
   ]
  },
  {
   "cell_type": "code",
   "execution_count": null,
   "id": "95ad3bcf-bce3-4128-8b83-08cc2c50f040",
   "metadata": {},
   "outputs": [],
   "source": [
    "# draw figure\n",
    "\n",
    "good_genes = ['SOD1', 'TDH3', 'CCW12', 'ADH1', 'FBA1', 'PDC1', 'PMA1', 'ILV5']\n",
    "good_chrms = [9,      6,      11,      14,     10,     11,     6,      11]\n",
    "good_strnd = ['-',    '-',    '-',     '-',    '-',    '-',    '-',    '-']\n",
    "good_coord = [(622550, 622670), (883650, 883750), (370000, 370100), (160050, 160200), (327350, 327487), (233300, 233400), (480200, 480300), (838300, 838400)]\n",
    "\n",
    "i = 7\n",
    "chrom = good_chrms[i]\n",
    "strand = good_strnd[i]\n",
    "coords = (838066, 838400)\n",
    "\n",
    "\n",
    "fig, axs = plt.subplots(2*len(good_genes), 1, figsize=[8, 15], sharex=False, sharey=True)\n",
    "plt.subplots_adjust(hspace=0.5)\n",
    "\n",
    "for i in range(len(good_genes)):\n",
    "\n",
    "    ax0 = axs[2*i].twinx()\n",
    "    dms_pro.plot_profile(good_chrms[i], good_strnd[i], good_coord[i][0], good_coord[i][1], genome, axs[2*i], cmap_loc='../cmap.txt')\n",
    "    ax0.bar(np.arange(good_coord[i][0], good_coord[i][1]), dms_pro.cov_m[good_chrms[i]][good_coord[i][0]:good_coord[i][1]], 1, color='lightgray')\n",
    "    axs[2*i].set_zorder(10)\n",
    "    axs[2*i].set_frame_on(False)\n",
    "\n",
    "    ax0 = axs[2*i+1].twinx()\n",
    "    dms_mat.plot_profile(good_chrms[i], good_strnd[i], good_coord[i][0], good_coord[i][1], genome, axs[2*i+1], cmap_loc='../cmap.txt')\n",
    "    ax0.bar(np.arange(good_coord[i][0], good_coord[i][1]), dms_mat.cov_m[good_chrms[i]][good_coord[i][0]:good_coord[i][1]], 1, color='lightgray')\n",
    "    axs[2*i+1].set_zorder(10)\n",
    "    axs[2*i+1].set_frame_on(False)\n",
    "\n",
    "\n",
    "plt.setp(axs, ylim=(0, 2), ylabel='DMS')\n",
    "plt.show()"
   ]
  },
  {
   "cell_type": "markdown",
   "id": "93142166-7f40-41d2-8c04-4cf12a51aeef",
   "metadata": {},
   "source": [
    "## Figure 4b"
   ]
  },
  {
   "cell_type": "code",
   "execution_count": null,
   "id": "fcb4ec39-d953-4a5c-8f89-2f2e425294ee",
   "metadata": {},
   "outputs": [],
   "source": [
    "from src.DMS_Profile import gini_for_transcripts\n",
    "from scipy.stats import mannwhitneyu"
   ]
  },
  {
   "cell_type": "code",
   "execution_count": null,
   "id": "e08c655b-a4da-4712-a6f9-b38aea436b47",
   "metadata": {},
   "outputs": [],
   "source": [
    "# calculate Gini index for different transcript classes\n",
    "\n",
    "gini_transcript_cont, corr_transcript_cont = gini_for_transcripts(dms_mat, dms_pro, annotation.intron_cont, genome, annotation, min_nt_gini=30, min_frac_of_transcript_gini=0.1)\n",
    "gini_transcript_less, corr_transcript_less = gini_for_transcripts(dms_mat, dms_pro, annotation.intron_less, genome, annotation, min_nt_gini=30, min_frac_of_transcript_gini=0.1)\n",
    "gini_transcript_stru, corr_transcript_stru = gini_for_transcripts(dms_mat, dms_pro, annotation.structured, genome, annotation, min_nt_gini=30, min_frac_of_transcript_gini=0.1)\n",
    "\n",
    "x_cont = [i[0] for i in list(gini_transcript_cont['CDS'].values())]\n",
    "y_cont = [i[1] for i in list(gini_transcript_cont['CDS'].values())]\n",
    "x_less = [i[0] for i in list(gini_transcript_less['CDS'].values())]\n",
    "y_less = [i[1] for i in list(gini_transcript_less['CDS'].values())]\n",
    "x_stru = [i[0] for i in list(gini_transcript_stru['noncoding_exon'].values())]\n",
    "y_stru = [i[1] for i in list(gini_transcript_stru['noncoding_exon'].values())]"
   ]
  },
  {
   "cell_type": "code",
   "execution_count": null,
   "id": "beb494f6-21e5-4d66-a1f8-1a3d89c6e123",
   "metadata": {},
   "outputs": [],
   "source": [
    "# draw figure\n",
    "\n",
    "plt.violinplot([x_less, y_less, x_cont, y_cont, x_stru, y_stru], showextrema=False)\n",
    "plt.boxplot([x_less, y_less, x_cont, y_cont, x_stru, y_stru], widths=0.1)\n",
    "plt.xticks([1, 2, 3, 4, 5, 6], ['mRNA intronless', 'nRNA intronless', 'mRNA intron', 'nRNA intron', 'mRNA struct', 'nRNA struct'], rotation=45)\n",
    "plt.ylabel('Gini index')\n",
    "plt.show()\n",
    "\n",
    "print(f\"p-value intronless: {mannwhitneyu(x_less, y_less).pvalue:.3f}\")\n",
    "print(f\"p-value intron-containing: {mannwhitneyu(x_cont, y_cont).pvalue:.3f}\")\n",
    "print(f\"p-value structured: {mannwhitneyu(x_stru, y_stru).pvalue:.3f}\")"
   ]
  },
  {
   "cell_type": "markdown",
   "id": "d25c3faf-59f5-4e80-acae-e67ff5032a61",
   "metadata": {},
   "source": [
    "## Figure 4c and S4e"
   ]
  },
  {
   "cell_type": "code",
   "execution_count": null,
   "id": "da28748d-3c34-4d0a-aca5-2348b525090d",
   "metadata": {},
   "outputs": [],
   "source": [
    "from src.DMS_Profile import bulk_2_target, targeted_combine_profiles\n",
    "from src.dms_utils import rsample, get_coords, plot_structure, fold, gini\n",
    "\n",
    "def gini_windows(rea, mask, w, min_n=20):\n",
    "    ginis = []\n",
    "    mreas = []\n",
    "    x = []\n",
    "    for window in range(len(rea)-w):\n",
    "        if len((rea[window:window+w])[mask[window:window+w]]) >= min_n:\n",
    "            gini_w = gini((rea[window:window+w])[mask[window:window+w]])\n",
    "            avg_re = np.median((rea[window:window+w])[mask[window:window+w]])\n",
    "            ginis.append(gini_w)\n",
    "            mreas.append(avg_re)\n",
    "        else:\n",
    "            ginis.append(np.nan)\n",
    "            mreas.append(np.nan)\n",
    "        x.append((window+window+w)/2)\n",
    "    return(x, ginis, mreas)\n",
    "\n",
    "# base pair distance for every paired nt\n",
    "# separate into opened and closed\n",
    "def get_partner(dbr):\n",
    "    bpdict = {}\n",
    "    opened = []\n",
    "    for i, d in enumerate(dbr):\n",
    "        if d == '(':\n",
    "            opened.append(i)\n",
    "        elif d == ')':\n",
    "            partner = opened.pop(-1)\n",
    "            if i not in bpdict:\n",
    "                bpdict[i] = partner\n",
    "                bpdict[partner] = i\n",
    "    \n",
    "    if opened:\n",
    "        print('parentheses unmatched!')\n",
    "        return(None)\n",
    "    else:\n",
    "        return(bpdict)"
   ]
  },
  {
   "cell_type": "code",
   "execution_count": null,
   "id": "20af9c64-cc81-4658-a03b-86a53086b5d2",
   "metadata": {},
   "outputs": [],
   "source": [
    "# load CoSTseq data with dummy replicates (not actually used for anything)\n",
    "\n",
    "dms_pro_1 = combine_profiles([ DMS_Profile('/Users/leo/Documents/repos/PRODMSMaPseq/data/muts/pro_dms/pro_wild_1_mRNA_agg.pkl', 'wild_R1', genome), \n",
    "                               DMS_Profile('/Users/leo/Documents/repos/PRODMSMaPseq/data/muts/pro_dms/pro_wild_2_mRNA_agg.pkl', 'wild_R2', genome), \n",
    "                               DMS_Profile('/Users/leo/Documents/repos/PRODMSMaPseq/data/muts/pro_dms/pro_wild_3_mRNA_agg.pkl', 'wild_R3', genome),\n",
    "                               DMS_Profile('/Users/leo/Documents/repos/PRODMSMaPseq/data/muts/pro_dms/pro_wild_4_mRNA_agg.pkl', 'wild_R4', genome), \n",
    "                               DMS_Profile('/Users/leo/Documents/repos/PRODMSMaPseq/data/muts/pro_dms/pro_wild_5_mRNA_agg.pkl', 'wild_R5', genome), \n",
    "                               DMS_Profile('/Users/leo/Documents/repos/PRODMSMaPseq/data/muts/pro_dms/pro_wild_6_mRNA_agg.pkl', 'wild_R6', genome),\n",
    "                               DMS_Profile('/Users/leo/Documents/repos/PRODMSMaPseq/data/muts/pro_dms/pro_wild_7_mRNA_agg.pkl', 'wild_R7', genome), \n",
    "                               DMS_Profile('/Users/leo/Documents/repos/PRODMSMaPseq/data/muts/pro_dms/pro_wild_8_mRNA_agg.pkl', 'wild_R8', genome)], 'all_pro', genome, min_cov=1000)\n",
    "\n",
    "\n",
    "dms_pro_2 = combine_profiles([ DMS_Profile('/Users/leo/Documents/repos/PRODMSMaPseq/data/muts/pro_dms/pro_dbp7_1_mRNA_agg.pkl', 'dbp7_R1', genome), \n",
    "                               DMS_Profile('/Users/leo/Documents/repos/PRODMSMaPseq/data/muts/pro_dms/pro_dbp7_2_mRNA_agg.pkl', 'dbp7_R2', genome), \n",
    "                               DMS_Profile('/Users/leo/Documents/repos/PRODMSMaPseq/data/muts/pro_dms/pro_dbp7_3_mRNA_agg.pkl', 'dbp7_R3', genome),\n",
    "                               DMS_Profile('/Users/leo/Documents/repos/PRODMSMaPseq/data/muts/pro_dms/pro_dbp3_1_mRNA_agg.pkl', 'dbp3_R1', genome), \n",
    "                               DMS_Profile('/Users/leo/Documents/repos/PRODMSMaPseq/data/muts/pro_dms/pro_dbp3_2_mRNA_agg.pkl', 'dbp3_R2', genome), \n",
    "                               DMS_Profile('/Users/leo/Documents/repos/PRODMSMaPseq/data/muts/pro_dms/pro_dbp3_3_mRNA_agg.pkl', 'dbp3_R3', genome)], 'all_pro', genome, min_cov=1000)\n",
    "                   \n",
    "dms_pro_3 = combine_profiles([ DMS_Profile('/Users/leo/Documents/repos/PRODMSMaPseq/data/muts/pro_dms/pro_spt4_1_mRNA_agg.pkl', 'spt4_R1', genome), \n",
    "                               DMS_Profile('/Users/leo/Documents/repos/PRODMSMaPseq/data/muts/pro_dms/pro_spt4_2_mRNA_agg.pkl', 'spt4_R2', genome), \n",
    "                               DMS_Profile('/Users/leo/Documents/repos/PRODMSMaPseq/data/muts/pro_dms/pro_spt4_3_mRNA_agg.pkl', 'spt4_R3', genome),\n",
    "                               DMS_Profile('/Users/leo/Documents/repos/PRODMSMaPseq/data/muts/pro_dms/pro_stm1_1_mRNA_agg.pkl', 'stm1_R1', genome), \n",
    "                               DMS_Profile('/Users/leo/Documents/repos/PRODMSMaPseq/data/muts/pro_dms/pro_stm1_2_mRNA_agg.pkl', 'stm1_R2', genome), \n",
    "                               DMS_Profile('/Users/leo/Documents/repos/PRODMSMaPseq/data/muts/pro_dms/pro_stm1_3_mRNA_agg.pkl', 'stm1_R3', genome)], 'all_pro', genome, min_cov=1000)"
   ]
  },
  {
   "cell_type": "code",
   "execution_count": null,
   "id": "257b3ffa-bfb2-4af4-b806-a3e0f327f94f",
   "metadata": {},
   "outputs": [],
   "source": [
    "# extract U2 snRNA data for targeted analysis\n",
    "\n",
    "chrom = 1\n",
    "coords = (680687, 681862)\n",
    "avg_win = 6\n",
    "\n",
    "genome_lsr1 = Genome('/Users/leo/Documents/repos/lsStruct/data/genome/scer_chr_kan.FASTA', coords=(chrom, coords[0], coords[1]), reverse=True)\n",
    "\n",
    "lsr1_1 = bulk_2_target(dms_pro_1, chrom, '-', coords, genome_lsr1)\n",
    "lsr1_2 = bulk_2_target(dms_pro_2, chrom, '-', coords, genome_lsr1)\n",
    "lsr1_3 = bulk_2_target(dms_pro_3, chrom, '-', coords, genome_lsr1)\n",
    "lsr1 = targeted_combine_profiles([lsr1_1, lsr1_2, lsr1_3], 'lsr1', genome_lsr1, min_cov=2000, cov_corr_individual=True, use_G=False, use_U=True, per_exclude=5)"
   ]
  },
  {
   "cell_type": "code",
   "execution_count": null,
   "id": "04021060-6221-41c0-8d75-f86b53dfcab6",
   "metadata": {},
   "outputs": [],
   "source": [
    "# set secondary structure models for known regions, predict based on DMS reactivity for the rest\n",
    "\n",
    "# known structures of 3' and 5' region\n",
    "stt1 = '.......(((..(((....)))..)))....................(((((((......)))))))((((((.....))).)))...............................................................'\n",
    "stt2 = '.......(((..(((....)))..)))..........................((((((((.(((((((((((.....))).))).....)))))..))))))))...........................................'\n",
    "end1 = '.....(((((((.(((....(((((((..........)).)))))))))))))))............................................'\n",
    "\n",
    "# predict structure with 2nd half dms reactivities\n",
    "half_mask = np.array(442*[False] + (len(genome_lsr1.seq[148:])-442)*[True])\n",
    "\n",
    "# structure prediction takes a long time (depending on number of available CPUs), so I provide the result here for simplicity\n",
    "want_to_run = False\n",
    "if want_to_run:\n",
    "    p, dG, dbr = rsample(genome_lsr1.seq[148:], lsr1.rat[148:]*lsr1.vec_norm[148:], half_mask & ~genome_lsr1.mask_G()[148:], rnastructure_path='/Users/leo/Builds/RNAstructure/exe')\n",
    "else:\n",
    "    dbr = '.((((((..(((((.(.((((..((......(((((((((.....(((..(((((((....(((((((.....((((((((((.((((((((((((((((((((....(((((((((((.(((((((((((.(((....((((((.((((((.((((.(((((((((((((((((((((((((((((..(((((.....(((.((((((..(((.....))).....(((((((((.......((((((((((((((((...((((((...(((((((((((.((((((((((((...(((((...((((((((((((((.((....(((((((.(((((((((((((((((((((((((((((((((.((((.((((((((..(((((((..((((.((((((.((((((((((.((..((((((((...((((.(((((.(((((((((((((.(((....))).))))))))..)))))..(((((((....))))))).))))).))))..))))))))..)).)))))))))).)))))).))))...)))))))....))))))))..)))).))))))))))))))))))).....)))))))))))))).)))))))..)).))))))))))))))..)))))..)))))))))))))))))).)))))..)))))).))))))))))...)))))).....)))))))))..((((((....)))))).)))))).)))....)))))..)))))))))))..)))))))))))...))))))).)))).)))))).))))))))).))))))))))))))))))))))...))))......))))))))))))))))...)))))))))))))))))....)))))))..)))....)))))))))))..))))).)))))..))))))(((((((((((((((.........(((((((((....)))))).)))...))))))..))))))))).....................'\n",
    "    \n",
    "# calculate coordinates\n",
    "coords = get_coords(genome_lsr1.seq, stt1+dbr)"
   ]
  },
  {
   "cell_type": "code",
   "execution_count": null,
   "id": "ca1f1e7c-4614-471f-8a7b-46d0a52803b4",
   "metadata": {},
   "outputs": [],
   "source": [
    "# draw figure\n",
    "plot_structure(coords, genome_lsr1.seq, lsr1.rat*lsr1.vec_norm, ~genome_lsr1.mask_G(), figsize=(30, 20), vmin=0, vmax=1, circle_size=25, cmap_loc='../cmap.txt')\n",
    "plt.show()"
   ]
  },
  {
   "cell_type": "code",
   "execution_count": null,
   "id": "04d41c24-189d-4d7d-8429-44088d673f57",
   "metadata": {},
   "outputs": [],
   "source": [
    "# calculate base pair distance\n",
    "bpdict = get_partner(stt1+dbr)\n",
    "# add 0 for no pairs\n",
    "for i in range(len(stt1+dbr)):\n",
    "    if i not in bpdict:\n",
    "        bpdict[i] = i\n",
    "\n",
    "bp_dist = [abs(nt-bpdict[nt]) for nt in bpdict]\n",
    "x_plot_bp = np.array(list(bpdict.keys()))\n",
    "order_bp = x_plot_bp.argsort()\n",
    "x_plot_bp = np.array(sorted(x_plot_bp))\n",
    "bp_dist = np.array([bp_dist[i] for i in order_bp])\n",
    "\n",
    "# calculate gini index and average reactivity\n",
    "w = 70\n",
    "mask_acu = genome_lsr1.mask_A()|genome_lsr1.mask_C()|genome_lsr1.mask_U()\n",
    "x_gini_nas, gini_nas, mrea_nas = gini_windows(lsr1.rat*lsr1.vec_norm, mask_acu&lsr1.mask, w, min_n=20)"
   ]
  },
  {
   "cell_type": "code",
   "execution_count": null,
   "id": "251ed53d-75e2-45d5-8ed6-ac2f39ef5ba3",
   "metadata": {},
   "outputs": [],
   "source": [
    "# draw figure\n",
    "\n",
    "fig, axs = plt.subplots(2, 1, figsize=[10, 2])\n",
    "axs[0].plot(x_gini_nas, gini_nas, lw=2, color='k')\n",
    "ax1 = axs[1].twinx()\n",
    "ax1.plot(x_plot_bp[bp_dist>0], bp_dist[bp_dist>0], '.', color='r')\n",
    "axs[0].set_ylabel('Gini index')\n",
    "ax1.set_ylabel('base pair distance')\n",
    "axs[1].plot(x_gini_nas, mrea_nas, lw=2)\n",
    "axs[1].set_ylabel('Average DMS reactivity')\n",
    "plt.show()"
   ]
  },
  {
   "cell_type": "markdown",
   "id": "62481334-b41a-4248-bcd6-ca197849c7f0",
   "metadata": {},
   "source": [
    "## Figure 4d"
   ]
  },
  {
   "cell_type": "code",
   "execution_count": null,
   "id": "b7ad8fed-ff93-4077-9f0c-0411bf48c672",
   "metadata": {},
   "outputs": [],
   "source": [
    "import pickle\n",
    "from src.dms_utils import normalize_cov"
   ]
  },
  {
   "cell_type": "code",
   "execution_count": null,
   "id": "933cf04d-c02e-44b6-82b0-77d7ce99f248",
   "metadata": {},
   "outputs": [],
   "source": [
    "fig, axs = plt.subplots(2, 1, figsize=(4, 6), sharex=True, sharey=True)\n",
    "\n",
    "# Pol II\n",
    "n_reps = 8\n",
    "read2_df  = pd.DataFrame()\n",
    "for n in range(n_reps):\n",
    "    with open(f\"/Users/leo/Documents/repos/PRODMSMaPseq/data/muts/pro_dms/pro_wild_{n+1}_mrna_read2.pkl\", 'rb') as f:\n",
    "        mut, cov = pickle.load(f)\n",
    "        # correct coverage bias\n",
    "        rea = normalize_cov(mut, cov)\n",
    "        nrm = np.mean(rea[50:140])\n",
    "        # normalize reactivity based on average last nts (50-140)\n",
    "        rea = rea/nrm\n",
    "    axs[0].plot(rea, '.k')\n",
    "    axs[0].set_title(f\"Pol II\")\n",
    "    read2_df[f\"{n+1}\"] = rea\n",
    "axs[0].plot(read2_df.mean(axis=1), '-k', label='DMS')\n",
    "\n",
    "# Pol II untreated\n",
    "n_reps = 2\n",
    "read2_df  = pd.DataFrame()\n",
    "for n in range(n_reps):\n",
    "    with open(f\"/Users/leo/Documents/repos/PRODMSMaPseq/data/muts/pro_dms/pro_unwt_{n+1}_mrna_read2.pkl\", 'rb') as f:\n",
    "        mut, cov = pickle.load(f)\n",
    "        # correct coverage bias\n",
    "        rea = normalize_cov(mut, cov)\n",
    "        # normalize reactivity based on average last nts (50-140)\n",
    "        rea = rea/nrm\n",
    "    axs[0].plot(rea, '.g')\n",
    "    read2_df[f\"{n+1}\"] = rea\n",
    "axs[0].plot(read2_df.mean(axis=1), '-g', label='untreated')\n",
    "axs[0].legend()\n",
    "\n",
    "# Pol I\n",
    "n_reps = 8\n",
    "read2_df  = pd.DataFrame()\n",
    "for n in range(n_reps):\n",
    "    with open(f\"/Users/leo/Documents/repos/PRODMSMaPseq/data/muts/pro_dms/pro_wild_{n+1}_rrna_read2.pkl\", 'rb') as f:\n",
    "        mut, cov = pickle.load(f)\n",
    "        # correct coverage bias\n",
    "        rea = normalize_cov(mut, cov)\n",
    "        nrm = np.mean(rea[50:140])\n",
    "        # normalize reactivity based on average last nts (50-140)\n",
    "        rea = rea/nrm\n",
    "    axs[1].plot(rea, '.k')\n",
    "    axs[1].set_title(f\"Pol I\")\n",
    "    read2_df[f\"{n+1}\"] = rea\n",
    "axs[1].plot(read2_df.mean(axis=1), '-k')\n",
    "axs[1].set_xlabel('Nascent RNA position')\n",
    "axs[1].set_ylabel('Relative mutation rate')\n",
    "\n",
    "plt.setp(axs, xlim=(0, 29), ylim=(0, 2))\n",
    "plt.show()"
   ]
  },
  {
   "cell_type": "markdown",
   "id": "8d8c6d97-8b1a-4a62-a169-4a8fbed6f8c5",
   "metadata": {},
   "source": [
    "## Figure S4a"
   ]
  },
  {
   "cell_type": "code",
   "execution_count": null,
   "id": "70ecf270-6598-476d-a365-f32f623a410c",
   "metadata": {},
   "outputs": [],
   "source": [
    "plt.figure(figsize=(4, 2))\n",
    "\n",
    "plt.hist(list(corr_transcript_less['CDS'].values()) + list(corr_transcript_cont['CDS'].values()), bins=np.arange(0.35, 1, 0.01))\n",
    "plt.xlabel('pearson r')\n",
    "plt.ylabel('number of genes')\n",
    "plt.show()"
   ]
  },
  {
   "cell_type": "markdown",
   "id": "bccf5257-774a-4af9-9d15-51be355dc725",
   "metadata": {},
   "source": [
    "## Figure S4b"
   ]
  },
  {
   "cell_type": "code",
   "execution_count": null,
   "id": "36ab0a32-2758-40a3-bf59-053221b9c925",
   "metadata": {},
   "outputs": [],
   "source": [
    "from src.bam_utils import reverse_complement\n",
    "from tqdm import tqdm\n",
    "from src.dms_utils import fold_parallel"
   ]
  },
  {
   "cell_type": "code",
   "execution_count": null,
   "id": "83bcd804-1f9c-4c07-9c7f-cfcbbe18ec44",
   "metadata": {},
   "outputs": [],
   "source": [
    "# load wildtype DMS-MaPseq data\n",
    "wild = combine_profiles([DMS_Profile('/Users/leo/Documents/repos/PRODMSMaPseq/data/muts/mat_dms/mat_wild_1_mRNA_agg.pkl', 'wild_R1', genome), \n",
    "                         DMS_Profile('/Users/leo/Documents/repos/PRODMSMaPseq/data/muts/mat_dms/mat_wild_2_mRNA_agg.pkl', 'wild_R2', genome), \n",
    "                         DMS_Profile('/Users/leo/Documents/repos/PRODMSMaPseq/data/muts/mat_dms/mat_wild_3_mRNA_agg.pkl', 'wild_R3', genome)], 'wild', genome)"
   ]
  },
  {
   "cell_type": "code",
   "execution_count": null,
   "id": "3251930c-597f-4508-9c0b-02b3ad20fca9",
   "metadata": {},
   "outputs": [],
   "source": [
    "# export high coverage transcripts for structure prediction\n",
    "\n",
    "avg_cov_thresh = 2000\n",
    "\n",
    "# find transcript with highest coverage in mRNA DMS data\n",
    "chrom_dict = {'chrI':0, 'chrII':1, 'chrIII':2, 'chrIV':3, 'chrV':4, 'chrVI':5, 'chrVII':6, 'chrVIII':7, 'chrIX':8, 'chrX':9, 'chrXI':10, 'chrXII':11, 'chrXIII':12, 'chrXIV':13, 'chrXV':14, 'chrXVI':15, 'chrmt':16, 'KanMX':17}\n",
    "cov_dict = {}\n",
    "for idx, trx in enumerate(annotation.intron_less):\n",
    "    if annotation.db[trx].strand == '+':\n",
    "        avg_cov = np.mean(wild.cov_p[chrom_dict[annotation.db[trx][0]]][int(annotation.db[trx][3]):int(annotation.db[trx][4])])\n",
    "    elif annotation.db[trx].strand == '-':\n",
    "        avg_cov = np.mean(wild.cov_m[chrom_dict[annotation.db[trx][0]]][int(annotation.db[trx][3]):int(annotation.db[trx][4])])\n",
    "    \n",
    "    cov_dict[trx] = avg_cov\n",
    "\n",
    "# extract sequence from top transcripts, until coverage is insufficient\n",
    "high_cov_seqs = {}\n",
    "for trx in sorted(cov_dict, key=cov_dict.get, reverse=True):\n",
    "    if cov_dict[trx] >= avg_cov_thresh:\n",
    "        if annotation.db[trx].strand == '+':\n",
    "            seq = genome.seq[chrom_dict[annotation.db[trx][0]]][int(annotation.db[trx][3]-1):int(annotation.db[trx][4])].replace('T', 'U')\n",
    "        elif annotation.db[trx].strand == '-':\n",
    "            seq = reverse_complement(genome.seq[chrom_dict[annotation.db[trx][0]]][int(annotation.db[trx][3]-1):int(annotation.db[trx][4])]).replace('T', 'U')\n",
    "\n",
    "        high_cov_seqs[trx] = seq"
   ]
  },
  {
   "cell_type": "code",
   "execution_count": null,
   "id": "7034c162-62b5-48bd-89d0-923f4d3b1e05",
   "metadata": {},
   "outputs": [],
   "source": [
    "# run RNAstructure prediction and compute AUROC for each transcript\n",
    "\n",
    "min_n = 10 # minimum number of nucleotides in each category (x2 min number of nt total)\n",
    "x = np.hstack([np.arange(10, 305, 5), np.arange(320, 3020, 20)]) # maximum base pairing distance\n",
    "\n",
    "# This takes a long time to run. I therefore provide the output for simplicity.\n",
    "want_to_run = False\n",
    "if want_to_run:\n",
    "    \n",
    "    aurocs_maxbp = []\n",
    "    for maxbp in tqdm(x):\n",
    "\n",
    "        dbr_all, eng_all = fold_parallel(list(high_cov_seqs.values()), maxbp=maxbp)\n",
    "\n",
    "        aurocs = []\n",
    "        for idx, trx in enumerate(list(high_cov_seqs.keys())):\n",
    "            seq = high_cov_seqs[trx]\n",
    "            dbr = dbr_all[idx]\n",
    "            strand = annotation.db[trx].strand\n",
    "            chrom = chrom_dict[annotation.db[trx][0]]\n",
    "            start = int(annotation.db[trx][3])\n",
    "            stop = int(annotation.db[trx][4])\n",
    "\n",
    "            mask_seq = genome.mask_seq[chrom][start-1:stop] if strand == '+' else ~genome.mask_seq[chrom][start-1:stop][::-1]\n",
    "            mask_cov = wild.mask_p[chrom][start-1:stop] if strand == '+' else wild.mask_m[chrom][start-1:stop][::-1]\n",
    "\n",
    "            rea = wild.rat_p[chrom][start-1:stop] if strand == '+' else wild.rat_m[chrom][start-1:stop][::-1]\n",
    "\n",
    "            mask_un = np.array([True if i == '.' else False for i in dbr]) & mask_seq & mask_cov\n",
    "            mask_pa = np.array([True if i in [')', '('] else False for i in dbr]) & mask_seq & mask_cov\n",
    "\n",
    "            # calculate auroc\n",
    "            if np.sum(mask_un) <= min_n or np.sum(mask_pa) <= min_n:\n",
    "                auroc_hat = np.nan\n",
    "            else:\n",
    "                auroc_hat = auroc(rea[mask_un], rea[mask_pa])\n",
    "\n",
    "            aurocs.append(auroc_hat)\n",
    "\n",
    "        aurocs_maxbp.append(aurocs)\n",
    "\n",
    "else:\n",
    "    with open('../data/aurocs_maxbp.pkl', 'rb') as f:\n",
    "        _, aurocs_maxbp = pickle.load(f)"
   ]
  },
  {
   "cell_type": "code",
   "execution_count": null,
   "id": "b579ef84-799d-4a61-9c98-3584f8592bf1",
   "metadata": {},
   "outputs": [],
   "source": [
    "# draw figure\n",
    "\n",
    "fig, axs = plt.subplots(1, 2, figsize=[10, 3])\n",
    "\n",
    "axs[0].plot(x[:len(aurocs_maxbp)], np.nanmean(aurocs_maxbp, axis=1), 'o-')\n",
    "axs[0].set_xlabel('max. base pair distance')\n",
    "axs[0].set_ylabel('AUROC (agreement with DMS data)')\n",
    "\n",
    "axs[1].plot(x[:len(aurocs_maxbp)], np.nanmean(aurocs_maxbp, axis=1), 'o-')\n",
    "axs[1].set_xlabel('max. base pair distance')\n",
    "axs[1].set_ylabel('AUROC (agreement with DMS data)')\n",
    "axs[1].set_xlim([0, 700])\n",
    "axs[1].set_ylim([0.69, 0.71])\n",
    "\n",
    "plt.show()"
   ]
  },
  {
   "cell_type": "markdown",
   "id": "aca7ec1e-db47-4a14-b549-85561544554e",
   "metadata": {},
   "source": [
    "## Figure S4c"
   ]
  },
  {
   "cell_type": "code",
   "execution_count": null,
   "id": "9615989f-20b1-4e17-8d8f-805fd219866d",
   "metadata": {},
   "outputs": [],
   "source": [
    "from scipy.stats import pearsonr"
   ]
  },
  {
   "cell_type": "code",
   "execution_count": null,
   "id": "b2f9e9bf-1121-4e2c-8d48-2a22cdc7c85c",
   "metadata": {},
   "outputs": [],
   "source": [
    "def parse_icshape(filename, min_rpkm=500):\n",
    "    icshape = {}\n",
    "    with open(filename, 'r') as f:\n",
    "        for line in f:\n",
    "            rpkm = float(line.split('\\t')[2])\n",
    "            if rpkm >= min_rpkm:\n",
    "                rea = np.array(line.strip().split('\\t')[3:])\n",
    "                rea[rea=='NULL'] = np.nan\n",
    "                rea = rea.astype(float)\n",
    "                icshape[line.split('\\t')[0]] = rea\n",
    "    return(icshape)\n",
    "\n",
    "def collapse_reas(samples1, samples2, sid1, sid2):\n",
    "    d = {k: (samples1[sid1][k], samples1[sid2][k], samples2[sid1][k], samples2[sid2][k]) for k in samples1[sid1].keys() if k in samples1[sid2] and k in samples2[sid1] and k in samples2[sid2]}\n",
    "    \n",
    "    nts_filt_1 = []\n",
    "    nts_filt_2 = []\n",
    "    nts_filt_3 = []\n",
    "    nts_filt_4 = []\n",
    "    for gene in d.keys():\n",
    "        good = (d[gene][0] == d[gene][0]) & \\\n",
    "               (d[gene][1] == d[gene][1]) & \\\n",
    "               (d[gene][2] == d[gene][2]) & \\\n",
    "               (d[gene][3] == d[gene][3])\n",
    "        nts_filt_1.append(d[gene][0][good])\n",
    "        nts_filt_2.append(d[gene][1][good])\n",
    "        nts_filt_3.append(d[gene][2][good])\n",
    "        nts_filt_4.append(d[gene][3][good])\n",
    "\n",
    "    return(np.hstack(nts_filt_1), np.hstack(nts_filt_2), np.hstack(nts_filt_3), np.hstack(nts_filt_4))"
   ]
  },
  {
   "cell_type": "code",
   "execution_count": null,
   "id": "cac56fc6-0088-419a-ba0f-96bf34d654f1",
   "metadata": {},
   "outputs": [],
   "source": [
    "# load icSHAPE data from Sun et al. (https://www.nature.com/articles/s41594-019-0200-7)\n",
    "# data not provided here but can be downloaded from GEO accession GSE117840\n",
    "\n",
    "path = '/Users/leo/Documents/repos/PRODMSMaPseq/sun_data/GSE117840_RAW/'\n",
    "fnames_vivo = ['GSM3310469_293_ch_vivo.out.txt',\n",
    "               'GSM3310472_293_np_vivo.out.txt',\n",
    "               'GSM3310475_293_cy_vivo.out.txt',\n",
    "               'GSM3310478_mes_ch_vivo.out.txt',\n",
    "               'GSM3310481_mes_np_vivo.out.txt',\n",
    "               'GSM3310484_mes_cy_vivo.out.txt']\n",
    "\n",
    "fnames_vitro = ['GSM3310470_293_ch_vitro.out.txt',\n",
    "                'GSM3310473_293_np_vitro.out.txt',\n",
    "                'GSM3310476_293_cy_vitro.out.txt',\n",
    "                'GSM3310479_mes_ch_vitro.out.txt',\n",
    "                'GSM3310482_mes_np_vitro.out.txt',\n",
    "                'GSM3310485_mes_cy_vitro.out.txt']\n",
    "\n",
    "min_rpkm = 500"
   ]
  },
  {
   "cell_type": "code",
   "execution_count": null,
   "id": "cecdbb71-f372-46a1-b593-18c70a262237",
   "metadata": {},
   "outputs": [],
   "source": [
    "coeffs_p = []\n",
    "\n",
    "x = np.arange(0, 1050, 50)\n",
    "\n",
    "for min_rpkm in tqdm(x):\n",
    "\n",
    "    samples_vivo = []\n",
    "    for filename in fnames_vivo:\n",
    "        samples_vivo.append(parse_icshape(path + filename, min_rpkm=min_rpkm))\n",
    "\n",
    "    samples_vitro = []\n",
    "    for filename in fnames_vitro:\n",
    "        samples_vitro.append(parse_icshape(path + filename, min_rpkm=min_rpkm))\n",
    "        \n",
    "\n",
    "    ch_293_viv, cy_293_viv, ch_293_vit, cy_293_vit = collapse_reas(samples_vivo, samples_vitro, 0, 2)\n",
    "    ch_mes_viv, cy_mes_viv, ch_mes_vit, cy_mes_vit = collapse_reas(samples_vivo, samples_vitro, 3, 5)\n",
    "    \n",
    "    coeffs_p.append([pearsonr(ch_293_viv, cy_293_viv).statistic,\n",
    "                     pearsonr(ch_293_vit, cy_293_vit).statistic,\n",
    "                     pearsonr(ch_mes_viv, cy_mes_viv).statistic,\n",
    "                     pearsonr(ch_mes_vit, cy_mes_vit).statistic])"
   ]
  },
  {
   "cell_type": "code",
   "execution_count": null,
   "id": "b9c9004f-95f1-4643-824c-d646a0d1a428",
   "metadata": {},
   "outputs": [],
   "source": [
    "fig, axs = plt.subplots(figsize=(4, 3), sharex=True, sharey=True)\n",
    "\n",
    "axs.plot(x, [coeffs_p[i][0] for i in range(len(coeffs_p))], '-ok', label='in vivo')\n",
    "axs.plot(x, [coeffs_p[i][1] for i in range(len(coeffs_p))], '-or', label='in vitro')\n",
    "axs.set_title('HEK293T chromatin vs cytoplasm')\n",
    "axs.set_xlabel('min_rpkm')\n",
    "axs.set_ylabel('pearson correlation of icSHAPE score')\n",
    "axs.legend(loc='lower right')\n",
    "\n",
    "plt.show()"
   ]
  },
  {
   "cell_type": "markdown",
   "id": "7c94c758-7df6-4013-ad2b-6d884e5d3eb5",
   "metadata": {},
   "source": [
    "## Figure S4d"
   ]
  },
  {
   "cell_type": "code",
   "execution_count": null,
   "id": "30a1802b-6ee2-476f-ad0d-36b9be31a888",
   "metadata": {},
   "outputs": [],
   "source": [
    "# load CoSTseq and DMS-MaPseq data for wildtype and spt4∆\n",
    "\n",
    "wild_nas = combine_profiles([ DMS_Profile('/Users/leo/Documents/repos/PRODMSMaPseq/data/muts/pro_dms/pro_wild_1_mRNA_agg.pkl', 'wild_R1', genome), \n",
    "                              DMS_Profile('/Users/leo/Documents/repos/PRODMSMaPseq/data/muts/pro_dms/pro_wild_2_mRNA_agg.pkl', 'wild_R2', genome), \n",
    "                              DMS_Profile('/Users/leo/Documents/repos/PRODMSMaPseq/data/muts/pro_dms/pro_wild_3_mRNA_agg.pkl', 'wild_R3', genome),\n",
    "                              DMS_Profile('/Users/leo/Documents/repos/PRODMSMaPseq/data/muts/pro_dms/pro_wild_4_mRNA_agg.pkl', 'wild_R4', genome), \n",
    "                              DMS_Profile('/Users/leo/Documents/repos/PRODMSMaPseq/data/muts/pro_dms/pro_wild_5_mRNA_agg.pkl', 'wild_R5', genome), \n",
    "                              DMS_Profile('/Users/leo/Documents/repos/PRODMSMaPseq/data/muts/pro_dms/pro_wild_6_mRNA_agg.pkl', 'wild_R6', genome),\n",
    "                              DMS_Profile('/Users/leo/Documents/repos/PRODMSMaPseq/data/muts/pro_dms/pro_wild_7_mRNA_agg.pkl', 'wild_R7', genome), \n",
    "                              DMS_Profile('/Users/leo/Documents/repos/PRODMSMaPseq/data/muts/pro_dms/pro_wild_8_mRNA_agg.pkl', 'wild_R8', genome)], '', genome, min_cov=1000)\n",
    "\n",
    "\n",
    "spt4_nas = combine_profiles([ DMS_Profile('/Users/leo/Documents/repos/PRODMSMaPseq/data/muts/pro_dms/pro_spt4_1_mRNA_agg.pkl', 'spt4_R1', genome), \n",
    "                              DMS_Profile('/Users/leo/Documents/repos/PRODMSMaPseq/data/muts/pro_dms/pro_spt4_2_mRNA_agg.pkl', 'spt4_R2', genome), \n",
    "                              DMS_Profile('/Users/leo/Documents/repos/PRODMSMaPseq/data/muts/pro_dms/pro_spt4_3_mRNA_agg.pkl', 'spt4_R8', genome)], '', genome, min_cov=1000)\n",
    "\n",
    "wild_mat = combine_profiles([ DMS_Profile('/Users/leo/Documents/repos/PRODMSMaPseq/data/muts/mat_dms/mat_wild_1_mRNA_agg.pkl', 'wild_R1', genome), \n",
    "                              DMS_Profile('/Users/leo/Documents/repos/PRODMSMaPseq/data/muts/mat_dms/mat_wild_2_mRNA_agg.pkl', 'wild_R2', genome), \n",
    "                              DMS_Profile('/Users/leo/Documents/repos/PRODMSMaPseq/data/muts/mat_dms/mat_wild_3_mRNA_agg.pkl', 'wild_R8', genome)], '', genome, min_cov=1000)\n",
    "\n",
    "\n",
    "spt4_mat = combine_profiles([ DMS_Profile('/Users/leo/Documents/repos/PRODMSMaPseq/data/muts/mat_dms/mat_spt4_1_mRNA_agg.pkl', 'spt4_R1', genome), \n",
    "                              DMS_Profile('/Users/leo/Documents/repos/PRODMSMaPseq/data/muts/mat_dms/mat_spt4_2_mRNA_agg.pkl', 'spt4_R2', genome), \n",
    "                              DMS_Profile('/Users/leo/Documents/repos/PRODMSMaPseq/data/muts/mat_dms/mat_spt4_3_mRNA_agg.pkl', 'spt4_R8', genome)], '', genome, min_cov=1000)\n"
   ]
  },
  {
   "cell_type": "code",
   "execution_count": null,
   "id": "6ebab7b0-1263-4859-afd2-d7c126b55aa9",
   "metadata": {},
   "outputs": [],
   "source": [
    "# correlation of nascent RNA reactivities\n",
    "mask_wild = np.hstack([np.hstack(wild_nas.mask_p), np.hstack(wild_nas.mask_m)])\n",
    "mask_spt4 = np.hstack([np.hstack(spt4_nas.mask_p), np.hstack(spt4_nas.mask_m)])\n",
    "mask_sequ = np.hstack([np.hstack(genome.mask_seq), ~np.hstack(genome.mask_seq)])\n",
    "mask_tot = mask_wild & mask_spt4 & mask_sequ\n",
    "\n",
    "wild_all = np.hstack([np.hstack(wild_nas.rat_p), np.hstack(wild_nas.rat_m)])[mask_tot]\n",
    "spt4_all = np.hstack([np.hstack(spt4_nas.rat_p), np.hstack(spt4_nas.rat_m)])[mask_tot]"
   ]
  },
  {
   "cell_type": "code",
   "execution_count": null,
   "id": "76336bee-b725-4d4c-87e4-b5551be59205",
   "metadata": {},
   "outputs": [],
   "source": [
    "plt.scatter(wild_all*wild_nas.fac_norm, spt4_all*spt4_nas.fac_norm, rasterized=True)\n",
    "plt.xscale('log')\n",
    "plt.yscale('log')\n",
    "plt.plot([0, 10], [0, 10], '--k')\n",
    "plt.axis('equal')\n",
    "plt.xlabel('wildtype CoSTseq DMS reactivity')\n",
    "plt.ylabel('spt4∆ CoSTseq DMS reactivity')\n",
    "plt.show()"
   ]
  },
  {
   "cell_type": "code",
   "execution_count": null,
   "id": "dc7aac36-b5ce-4776-87fa-785053e9cbbc",
   "metadata": {},
   "outputs": [],
   "source": [
    "# correlation of mature RNA reactictivities\n",
    "# mature\n",
    "mask_wild = np.hstack([np.hstack(wild_mat.mask_p), np.hstack(wild_mat.mask_m)])\n",
    "mask_spt4 = np.hstack([np.hstack(spt4_mat.mask_p), np.hstack(spt4_mat.mask_m)])\n",
    "mask_sequ = np.hstack([np.hstack(genome.mask_seq), ~np.hstack(genome.mask_seq)])\n",
    "mask_tot = mask_wild & mask_spt4 & mask_sequ\n",
    "\n",
    "wild_all = np.hstack([np.hstack(wild_mat.rat_p), np.hstack(wild_mat.rat_m)])[mask_tot]\n",
    "spt4_all = np.hstack([np.hstack(spt4_mat.rat_p), np.hstack(spt4_mat.rat_m)])[mask_tot]"
   ]
  },
  {
   "cell_type": "code",
   "execution_count": null,
   "id": "196935b5-df69-4ea5-97fa-3bee17e33907",
   "metadata": {},
   "outputs": [],
   "source": [
    "plt.scatter(wild_all*wild_mat.fac_norm, spt4_all*spt4_mat.fac_norm, rasterized=True)\n",
    "plt.xscale('log')\n",
    "plt.yscale('log')\n",
    "plt.plot([0, 10], [0, 10], '--k')\n",
    "plt.axis('equal')\n",
    "plt.xlabel('wildtype DMS-MaPseq DMS reactivity')\n",
    "plt.ylabel('spt4∆ DMS-MaPseq DMS reactivity')\n",
    "plt.show()"
   ]
  },
  {
   "cell_type": "markdown",
   "id": "8ff7b0a3-897d-479e-9902-14d9dfbd6f0d",
   "metadata": {},
   "source": [
    "## Figure S4e\n",
    "see above"
   ]
  },
  {
   "cell_type": "markdown",
   "id": "b836e85e-a108-4560-aa93-89e2322227c0",
   "metadata": {},
   "source": [
    "## Figure S4f"
   ]
  },
  {
   "cell_type": "code",
   "execution_count": null,
   "id": "d998fc19-2a2e-4e23-8232-83b73f9548fa",
   "metadata": {},
   "outputs": [],
   "source": [
    "# extract SCR1 data for targeted analysis\n",
    "\n",
    "chrom = 4 \n",
    "coords = (441986, 442508) \n",
    "avg_win = 6 \n",
    "\n",
    "genome_scr1 = Genome('/Users/leo/Documents/repos/lsStruct/data/genome/scer_chr_kan.FASTA', coords=(chrom, coords[0], coords[1]), reverse=False)\n",
    "\n",
    "scr1_1 = bulk_2_target(dms_pro_1, chrom, '+', coords, genome_scr1)\n",
    "scr1_2 = bulk_2_target(dms_pro_2, chrom, '+', coords, genome_scr1)\n",
    "scr1_3 = bulk_2_target(dms_pro_3, chrom, '+', coords, genome_scr1)\n",
    "scr1 = targeted_combine_profiles([scr1_1, scr1_2, scr1_3], 'scr1', genome_scr1, min_cov=1000, cov_corr_individual=True, use_G=False, use_U=True, per_exclude=5)"
   ]
  },
  {
   "cell_type": "code",
   "execution_count": null,
   "id": "a04febe7-0fee-44de-b538-5d49195b9282",
   "metadata": {},
   "outputs": [],
   "source": [
    "# secondary structure model for SCR1\n",
    "dbr_scr1 = '(((((.....)))))....((((..((((((((((.(((((((((((((((((((.......))))))..)))))))(((((..(((..((((...))))..(((((((....))))))))))))))).((((..(((((.((((((....(((((((.........(((.(((((((....))))))))))))))).)).(((((..((((.(((((((((((............((((((((((..((((((((((((((((((.((....)))))))).))))).)))).)))......(((((((....)).)))))..((((((....((((.(((((((......))))))).)))).)))))).))))))).)))...)))))))...))))...)))).)))))((((....((((((.(((...))))))))))).))))))))))))))))))))..))).(((...))).(((((((....))))))).))))))))))..))))......'"
   ]
  },
  {
   "cell_type": "code",
   "execution_count": null,
   "id": "5e9fd57f-1150-4ec0-8692-fbad8e0678c1",
   "metadata": {},
   "outputs": [],
   "source": [
    "# draw figure\n",
    "\n",
    "coords = get_coords(genome_scr1.seq, dbr_scr1)\n",
    "plot_structure(coords, genome_scr1.seq, scr1.rat*scr1.vec_norm, ~genome_scr1.mask_G()&scr1.mask, figsize=(30, 20), vmin=0, vmax=1, circle_size=140, cmap_loc='../cmap.txt')\n",
    "\n",
    "plt.show()"
   ]
  },
  {
   "cell_type": "markdown",
   "id": "5a78d751-8922-4e1a-ae0e-2a1fa4840a4c",
   "metadata": {},
   "source": [
    "## Figure S4g"
   ]
  },
  {
   "cell_type": "code",
   "execution_count": null,
   "id": "e96c6a1e-1b13-4d9b-ac95-bc52643cc9de",
   "metadata": {},
   "outputs": [],
   "source": [
    "fig, axs = plt.subplots(figsize=(4, 3))\n",
    "\n",
    "# Pol II\n",
    "n_reps = 3\n",
    "read2_df  = pd.DataFrame()\n",
    "for n in range(n_reps):\n",
    "    with open(f\"/Users/leo/Documents/repos/PRODMSMaPseq/data/muts/mat_dms/mat_wild_{n+1}_mrna_read2.pkl\", 'rb') as f:\n",
    "        mut, cov = pickle.load(f)\n",
    "        # correct coverage bias\n",
    "        rea = normalize_cov(mut, cov)\n",
    "        nrm = np.mean(rea[50:140])\n",
    "        # normalize reactivity based on average last nts (50-140)\n",
    "        rea = rea/nrm\n",
    "    axs.plot(rea, '.k')\n",
    "    axs.set_title(f\"Pol II\")\n",
    "    read2_df[f\"{n+1}\"] = rea\n",
    "axs.plot(read2_df.mean(axis=1), '-k', label='DMS')\n",
    "axs.set_xlabel('Nascent RNA position')\n",
    "axs.set_ylabel('Relative mutation rate')\n",
    "\n",
    "axs.set_xlim([0, 29])\n",
    "axs.set_ylim([0, 2])\n",
    "plt.show()"
   ]
  }
 ],
 "metadata": {
  "kernelspec": {
   "display_name": "Python 3 (ipykernel)",
   "language": "python",
   "name": "python3"
  },
  "language_info": {
   "codemirror_mode": {
    "name": "ipython",
    "version": 3
   },
   "file_extension": ".py",
   "mimetype": "text/x-python",
   "name": "python",
   "nbconvert_exporter": "python",
   "pygments_lexer": "ipython3",
   "version": "3.8.17"
  }
 },
 "nbformat": 4,
 "nbformat_minor": 5
}
